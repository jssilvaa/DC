{
  "cells": [
    {
      "cell_type": "markdown",
      "id": "controversial-understanding",
      "metadata": {
        "id": "controversial-understanding"
      },
      "source": [
        "##### Pesquisa binária e exemplos \n",
        "\n",
        "Em arrays ordenados podemos tirar partido da \n",
        "ordenação para minimizar o nº de comparações (complexidade = $log_2(n)$). Na verdade, podemos passar de $n$ comparações (pior caso) para $log\\, n$. \n",
        "Ideia geral: \n",
        "* encontrar um elemento central do array (que dá origem a duas sub-listas), \n",
        "* comparar com o elemento a pesquisar, \n",
        "* decidir em que sub-lista pesquisar. \n",
        "\n",
        "Com este procedimento estamos sempre a eliminar metade do espaço de procura a considerar!"
      ]
    },
    {
      "cell_type": "code",
      "execution_count": 4,
      "id": "informal-landscape",
      "metadata": {
        "colab": {
          "base_uri": "https://localhost:8080/"
        },
        "id": "informal-landscape",
        "outputId": "253c9b41-bbfb-4e36-b09b-f71f9fbf8546"
      },
      "outputs": [
        {
          "name": "stdout",
          "output_type": "stream",
          "text": [
            "0 9\n",
            "0 3\n",
            "0 1\n",
            "-1\n"
          ]
        }
      ],
      "source": [
        "# pesquisa elemento x no array a[] retornando index ou -1 se insucesso\n",
        "def binfind(a,x):\n",
        "    i = 0\n",
        "    j = len(a) - 1\n",
        "    mid = round((i+j) / 2)\n",
        "    \n",
        "    while(i <= j and x != a[mid]):\n",
        "        print(i,j)\n",
        "        if(x < a[mid]):\n",
        "            j = mid - 1\n",
        "        else:\n",
        "            i = mid + 1\n",
        "        mid = round((i+j) / 2)\n",
        "            \n",
        "    if(i <= j):\n",
        "        return mid\n",
        "    else:\n",
        "        return -1\n",
        "                \n",
        "a = [1,2,3,4,5,11,12,19,23,29]\n",
        "print(binfind(a,0))"
      ]
    },
    {
      "cell_type": "markdown",
      "id": "behavioral-tyler",
      "metadata": {
        "id": "behavioral-tyler"
      },
      "source": [
        "Vamos ver agora uma versao recursiva da função anterior..."
      ]
    },
    {
      "cell_type": "code",
      "execution_count": 3,
      "id": "overhead-circular",
      "metadata": {
        "colab": {
          "base_uri": "https://localhost:8080/"
        },
        "id": "overhead-circular",
        "outputId": "f6d47a1f-c3f4-4221-e95d-dd883d1c40ab"
      },
      "outputs": [
        {
          "name": "stdout",
          "output_type": "stream",
          "text": [
            "-1\n"
          ]
        }
      ],
      "source": [
        "def binf2(i,j,a,x):\n",
        "    if(i > j):\n",
        "        return -1\n",
        "    else:\n",
        "        mid = round((i+j) / 2)\n",
        "        if(x == a[mid]):\n",
        "            return mid\n",
        "        if(x < a[mid]):\n",
        "            return binf2(i,j-1,a,x)\n",
        "        else: \n",
        "            return binf2(i+1,j,a,x)\n",
        "    \n",
        "def binfind_rec(a,x):\n",
        "    i = 0\n",
        "    j = len(a)-1\n",
        "    return binf2(i,j,a,x)\n",
        "\n",
        "a = [1,2,3,4,5,11,12,19,23,29]\n",
        "print(binfind_rec(a,0))"
      ]
    },
    {
      "cell_type": "markdown",
      "id": "stock-theory",
      "metadata": {
        "id": "stock-theory"
      },
      "source": [
        "#### Inserção em Arrays\n",
        "\n",
        "Inserção ordenada numa lista ordenada... Mais uma vez tiramos partido da ordenação."
      ]
    },
    {
      "cell_type": "code",
      "execution_count": 14,
      "id": "superb-country",
      "metadata": {
        "colab": {
          "base_uri": "https://localhost:8080/"
        },
        "id": "superb-country",
        "outputId": "d92a6ad6-683b-4ee3-9097-48843ddbaab9"
      },
      "outputs": [
        {
          "name": "stdout",
          "output_type": "stream",
          "text": [
            "[1, 2, 3, 5, 7, 8, 9, 12]\n"
          ]
        }
      ],
      "source": [
        "#inserção ordenada\n",
        "def insord(a,x):\n",
        "    a = a + [x]                 #cria um lugar no array para inserir novo elem\n",
        "    i = len(a)-2\n",
        "    while(i >= 0 and x < a[i]): #procura o lugar certo de 'x'\n",
        "        a[i+1] = a[i]\n",
        "        i -= 1\n",
        "    a[i+1] = x # encontrado o sitio e so inserir o novo elemento!\n",
        "    \n",
        "    return(a)\n",
        "\n",
        "\n",
        "a = [1,2,5,7,8,9,12]\n",
        "a = insord(a,3)\n",
        "print(a)"
      ]
    },
    {
      "cell_type": "markdown",
      "id": "considered-lending",
      "metadata": {
        "id": "considered-lending"
      },
      "source": [
        "Podemos ter um algoritmo de ordenação baseado neste princípio... No início, vemos o array como tendo uma parte já ordenada, seguindo-se elementos ainda não ordenados. Em cada passo do algoritmo insere-se mais um elemento na parte já ordenada."
      ]
    },
    {
      "cell_type": "code",
      "execution_count": 5,
      "id": "periodic-cartridge",
      "metadata": {
        "colab": {
          "base_uri": "https://localhost:8080/"
        },
        "id": "periodic-cartridge",
        "outputId": "d409a71d-8c0f-4f19-f369-3a5c2952fa68"
      },
      "outputs": [
        {
          "name": "stdout",
          "output_type": "stream",
          "text": [
            "1 [8, 1, 4, 2, 3, 7, 12, 11, 24, 6, 9, 0]\n",
            "   [1, 8, 4, 2, 3, 7, 12, 11, 24, 6, 9, 0]\n",
            "4 [1, 8, 4, 2, 3, 7, 12, 11, 24, 6, 9, 0]\n",
            "   [1, 4, 8, 2, 3, 7, 12, 11, 24, 6, 9, 0]\n",
            "2 [1, 4, 8, 2, 3, 7, 12, 11, 24, 6, 9, 0]\n",
            "   [1, 2, 4, 8, 3, 7, 12, 11, 24, 6, 9, 0]\n",
            "3 [1, 2, 4, 8, 3, 7, 12, 11, 24, 6, 9, 0]\n",
            "   [1, 2, 3, 4, 8, 7, 12, 11, 24, 6, 9, 0]\n",
            "7 [1, 2, 3, 4, 8, 7, 12, 11, 24, 6, 9, 0]\n",
            "   [1, 2, 3, 4, 7, 8, 12, 11, 24, 6, 9, 0]\n",
            "12 [1, 2, 3, 4, 7, 8, 12, 11, 24, 6, 9, 0]\n",
            "   [1, 2, 3, 4, 7, 8, 12, 11, 24, 6, 9, 0]\n",
            "11 [1, 2, 3, 4, 7, 8, 12, 11, 24, 6, 9, 0]\n",
            "   [1, 2, 3, 4, 7, 8, 11, 12, 24, 6, 9, 0]\n",
            "24 [1, 2, 3, 4, 7, 8, 11, 12, 24, 6, 9, 0]\n",
            "   [1, 2, 3, 4, 7, 8, 11, 12, 24, 6, 9, 0]\n",
            "6 [1, 2, 3, 4, 7, 8, 11, 12, 24, 6, 9, 0]\n",
            "   [1, 2, 3, 4, 6, 7, 8, 11, 12, 24, 9, 0]\n",
            "9 [1, 2, 3, 4, 6, 7, 8, 11, 12, 24, 9, 0]\n",
            "   [1, 2, 3, 4, 6, 7, 8, 9, 11, 12, 24, 0]\n",
            "0 [1, 2, 3, 4, 6, 7, 8, 9, 11, 12, 24, 0]\n",
            "   [0, 1, 2, 3, 4, 6, 7, 8, 9, 11, 12, 24]\n",
            "\n",
            "[0, 1, 2, 3, 4, 6, 7, 8, 9, 11, 12, 24]\n"
          ]
        }
      ],
      "source": [
        "def inSort(l):\n",
        "    for j in range(1, len(l)):\n",
        "        key = l[j]\n",
        "        i = j-1      # insere ordernadam/ entre i e 0\n",
        "        print(key,l) # (mostrar o elem a inserir)\n",
        "        while(i>=0 and l[i] > key): # procura sitio a inserir\n",
        "            l[i+1] = l[i]\n",
        "            i-=1\n",
        "            \n",
        "        l[i+1] = key  # encontrei o local onde inserir 'key'\n",
        "        print(\"  \",l)\n",
        "\n",
        "a = [8,1,4,2,3,7,12,11,24,6,9,0]\n",
        "inSort(a)\n",
        "print(\"\\n\"+str(a))"
      ]
    },
    {
      "cell_type": "markdown",
      "id": "stretch-credits",
      "metadata": {
        "id": "stretch-credits"
      },
      "source": [
        "#### Selection Sort\n",
        "\n",
        "Podemos ter um algoritmo ainda mais simples para ordenar um array. A ideia resume-se a calcular os mínimos num array (selection) e colocar cada um no local certo do próprio array.\n",
        "O ciclo principal deste algoritmo, tal como no insertion sort, mantém ordenado um segmento inicial do array, que vai crescendo até conter todo o array. \n",
        "A diferença é que, enquanto no insertion sort em cada iteração era feita uma inserção ordenada neste segmento inicial ordenado, no selection sort vamos selecionar o menor elemento contido na parte do array ainda não ordenada. \n",
        "Para isso poderíamos utilizar uma função auxiliar que selecionaria esse mínimo, mas sugere-se uma implementação sem função auxiliar, com um ciclo interior que faz a seleção do mínimo.\n",
        "\n",
        "[40, 20, 10, 30, 60, 0, 80]\n",
        "\n",
        "[$\\bf 0$, 20, 10, 30, 60, 40, 80]\n",
        "\n",
        "[$\\bf 0, 10$, 20, 30, 60, 40, 80]\n",
        "\n",
        "[$\\bf 0, 10, 20$, 30, 60, 40, 80]\n",
        "\n",
        "[$\\bf 0, 10, 20, 30$, 60, 40, 80]\n",
        "\n",
        "[$\\bf 0, 10, 20, 30, 40$, 60, 80]\n",
        "\n",
        "[$\\bf 0, 10, 20, 30, 40, 60$, 80]\n",
        "\n",
        "[$\\bf 0, 10, 20, 30, 40, 60, 80$]"
      ]
    },
    {
      "cell_type": "code",
      "execution_count": null,
      "id": "civilian-beast",
      "metadata": {
        "id": "civilian-beast",
        "outputId": "00c2daff-fa36-40f8-9c9a-669d9299d72e"
      },
      "outputs": [
        {
          "name": "stdout",
          "output_type": "stream",
          "text": [
            "[0, 10, 20, 23, 40, 60, 80]\n",
            "[0, 10, 20, 23, 40, 60, 80]\n"
          ]
        }
      ],
      "source": [
        "# selectionsort\n",
        "\n",
        "def selectSort(v): \n",
        "    for i in range(0, len(v)):\n",
        "        min = i \n",
        "        for j in range(i+1, len(v)): # calcula mínimo \n",
        "            if(v[j] < v[min]): \n",
        "                min = j       # regista mínimo\n",
        "                \n",
        "        if(min != i):         #coloca mínimo no segmento já ordenado\n",
        "            v[min], v[i] = v[i], v[min]     #o mesmo que swap de v[min] com v[j]\n",
        "            \n",
        "            \n",
        "            \n",
        "u = [40,20,10,23,60,0,80]\n",
        "selectSort(u)\n",
        "print(u)\n",
        "u = [80,60,10,23,20,0,40]\n",
        "selectSort(u)\n",
        "print(u)"
      ]
    },
    {
      "cell_type": "markdown",
      "id": "conceptual-chambers",
      "metadata": {
        "id": "conceptual-chambers"
      },
      "source": [
        "#### Merge\n",
        "\n",
        "Problema: fundir duas coleções ordenadas numa unica coleção ordenada (merge de arrays).\n",
        "   "
      ]
    },
    {
      "cell_type": "code",
      "execution_count": null,
      "id": "advance-norman",
      "metadata": {
        "id": "advance-norman",
        "outputId": "e136cf8a-51f0-41d0-85db-551ed8d49a27"
      },
      "outputs": [
        {
          "name": "stdout",
          "output_type": "stream",
          "text": [
            "[1, 2, 3, 4, 5, 6, 7, 9, 12, 15, 22]\n"
          ]
        }
      ],
      "source": [
        "#merge\n",
        "def merge(l1,l2,l):\n",
        "    i, j = 0, 0\n",
        "    \n",
        "    for k in range(0,len(l1)+len(l2)):\n",
        "        if(i < len(l1) and j < len(l2)):  # não chegamos ao fim de nenhum array?\n",
        "            if(l1[i] <= l2[j]):    \n",
        "                l[k] = l1[i]\n",
        "                i+=1\n",
        "            else:\n",
        "                l[k] = l2[j]\n",
        "                j+=1\n",
        "        else:                             # um dos arrays delas já acabou!\n",
        "            if(i >= len(l1)):\n",
        "                l[k] = l2[j]\n",
        "                j+=1\n",
        "            else:\n",
        "                if(j >= len(l2)):\n",
        "                    l[k] = l1[i]\n",
        "                    i+=1\n",
        "    \n",
        "\n",
        "\n",
        "a1 = [1,5,7,9,12,22]\n",
        "a2 = [2,3,4,6,15]\n",
        "a = [0] * (len(a1)+len(a2))\n",
        "\n",
        "merge(a1,a2,a)\n",
        "print(a)"
      ]
    },
    {
      "cell_type": "markdown",
      "id": "vocational-benjamin",
      "metadata": {
        "id": "vocational-benjamin"
      },
      "source": [
        "#### Algoritmo de Ordenação MergeSort\n",
        "\n",
        "Vamos então fazer um algoritmo que usa a fusão de dois arrays e recursivamente divida o array em partes para \n",
        "aplicar \"divide and conquer\". A divisão é virtual (pelos índices). Dividir a sequência em dois segmentos de igual comprimento e aplicar recursivamente o procedimento de ordenação!"
      ]
    },
    {
      "cell_type": "code",
      "execution_count": 6,
      "id": "strategic-kingston",
      "metadata": {
        "colab": {
          "base_uri": "https://localhost:8080/"
        },
        "id": "strategic-kingston",
        "outputId": "7b75b69e-9c60-45d8-b087-a06efcd35f98"
      },
      "outputs": [
        {
          "name": "stdout",
          "output_type": "stream",
          "text": [
            "0,1,2,[21, 1, 12, 3, 4, 11, 5, 13, 9, 0]\n",
            "3,4,5,[1, 21, 12, 3, 4, 11, 5, 13, 9, 0]\n",
            "2,3,5,[1, 21, 12, 3, 4, 11, 5, 13, 9, 0]\n",
            "0,2,5,[1, 21, 3, 4, 12, 11, 5, 13, 9, 0]\n",
            "5,6,7,[1, 3, 4, 12, 21, 11, 5, 13, 9, 0]\n",
            "8,9,10,[1, 3, 4, 12, 21, 5, 11, 13, 9, 0]\n",
            "7,8,10,[1, 3, 4, 12, 21, 5, 11, 13, 0, 9]\n",
            "5,7,10,[1, 3, 4, 12, 21, 5, 11, 0, 9, 13]\n",
            "0,5,10,[1, 3, 4, 12, 21, 0, 5, 9, 11, 13]\n",
            "[0, 1, 3, 4, 5, 9, 11, 12, 13, 21]\n"
          ]
        }
      ],
      "source": [
        "# merge para um só array\n",
        "def merge2(l,ii,m,fi):  # fundir as duas partes da lista dada\n",
        "    i, j = 0, 0\n",
        "    l1 = l[ii:m] \n",
        "    l2 = l[m:fi]\n",
        "    \n",
        "    for k in range(ii,fi):\n",
        "        if(i < len(l1) and j < len(l2)):  # não chegamos ao fim de nenhum array?\n",
        "            if(l1[i] <= l2[j]):    \n",
        "                l[k] = l1[i]\n",
        "                i+=1\n",
        "            else:\n",
        "                l[k] = l2[j]\n",
        "                j+=1\n",
        "        else:                             # um dos arrays já acabou!\n",
        "            if(i >= len(l1)):\n",
        "                l[k] = l2[j]\n",
        "                j+=1\n",
        "            else:\n",
        "                if(j >= len(l2)):\n",
        "                    l[k] = l1[i]\n",
        "                    i+=1\n",
        "    \n",
        "\n",
        "# Usar o algoritmo anterior para obter um algoritmo de sorting\n",
        "# MergeSort (recursivo)\n",
        "def MergeSort(l,i,f):\n",
        "    if(f - i > 1 ):\n",
        "        m = (i+f) // 2\n",
        "        MergeSort(l, i, m)\n",
        "        MergeSort(l, m, f)\n",
        "        print(str(i)+\",\"+str(m)+\",\"+str(f)+\",\"+str(a))\n",
        "        merge2(l, i, m, f) # fundir\n",
        "\n",
        "        \n",
        "a=[21,1,12,3,4,11,5,13,9,0]\n",
        "MergeSort(a,0,len(a))\n",
        "print(a)\n"
      ]
    },
    {
      "cell_type": "markdown",
      "id": "strong-thong",
      "metadata": {
        "id": "strong-thong"
      },
      "source": [
        "\n",
        "### Quicksort\n",
        "Trata-se igualmente de um algoritmo de divisão e conquista (divide and conquer), definido através de uma função recursiva simples, que utiliza uma função auxiliar. Neste caso a função separa a sequência em duas partes utilizando como critério um *pivot*, um dos elementos do array (por exemplo o último). Os elementos superiores ao pivot ficarão à direita no array final, e os outros à esquerda, sendo o pivot colocado entre estes dois segmentos. A função deve ainda devolver como resultado um indice, correspondente à posição final do pivot. \n"
      ]
    },
    {
      "cell_type": "code",
      "execution_count": 8,
      "id": "hawaiian-survival",
      "metadata": {
        "colab": {
          "base_uri": "https://localhost:8080/"
        },
        "id": "hawaiian-survival",
        "outputId": "5ed4746b-ef41-4f44-96b2-1c64bf4216e7"
      },
      "outputs": [
        {
          "name": "stdout",
          "output_type": "stream",
          "text": [
            "[2, 3, 1, 9, 5, 4, 2, 7, 6, 8, 0, 10, 11, 14, 15, 12, 19] 10 11\n"
          ]
        }
      ],
      "source": [
        "#QuickSort Algorithm\n",
        "\n",
        "# Partir uma sequencia em duas sequencias (de maiores e menores que um pivot dado)\n",
        "# retornar index de pivot (após partição)\n",
        "def partition (A,  p, r):    \n",
        "    pivot = A[r]  # inicialmente pivot é último...\n",
        "    i = p-1\n",
        "    for j in range(p,r):\n",
        "        if(A[j] <= pivot):\n",
        "            i+=1\n",
        "            A[i], A[j] = A[j], A[i]  #swap(A, i, j)\n",
        "            \n",
        "    A[i+1], A[r] = A[r], A[i+1] #swap(A, i+1, r) colocar o pivot entre as sub sequencias de menores e maiores!\n",
        "    \n",
        "    return (i+1)    # devolve o indice de pivot no array.\n",
        "\n",
        "\n",
        "a=[14,2,3,12,1,9,5,4,11,2,7,19,6,8,15,0,10]\n",
        "ans = partition(a,0,len(a)-1)\n",
        "print(a,a[ans],ans)"
      ]
    },
    {
      "cell_type": "markdown",
      "id": "fewer-activity",
      "metadata": {
        "id": "fewer-activity"
      },
      "source": [
        "Vamos agora ver o algoritmo completo.\n",
        "\n",
        "#### Quicksort\n",
        "O quicksort não é mais do que a ordenação por divisão e conquista com base na função de partição. Tomando como exemplo de partir o array\n",
        "v = [40, 20, 10, 80, 60, 0, 30]\n",
        "tínhamos obtido a sua partição\n",
        "[20, 10, 0, **30**, 60, 40, 80]\n",
        "\n",
        "\n",
        "Para continuar a ordenação basta agora *recursivamente ordenar* os segmentos [20, 10, 0] e [60, 40, 80] do array. Para isto é importante que a função quicksort receba como parâmetros, além do array, os índices entre os quais será feita a ordenação, uma vez que serão efectuadas diversas chamadas de ordenação, trabalhando em segmentos diferentes. \n",
        "\n",
        "\n",
        "Note-se que, depois de ordenados estes segmentos, não haverá nada mais a fazer:\n",
        "\n",
        "[0, 10, 20, **30**, 40, 60, 80]\n",
        "\n",
        "> Comparação!: enquanto no algoritmo *mergesort* o esforço computacional está situado *depois do passo recursivo*, quando é feita a fusão ordenada (e o passo de divisão do input é trivial), no caso do *quicksort* o esforço encontra-se no passo de divisão do input, antes das chamadas recursivas, sendo a combinação dos resultados das chamadas recursivas trivial."
      ]
    },
    {
      "cell_type": "code",
      "execution_count": 11,
      "id": "electronic-diving",
      "metadata": {
        "colab": {
          "base_uri": "https://localhost:8080/"
        },
        "id": "electronic-diving",
        "outputId": "97dad1d9-5183-4c0a-a7bb-ecf642ddf7a3"
      },
      "outputs": [
        {
          "name": "stdout",
          "output_type": "stream",
          "text": [
            "10   [2, 3, 1, 9, 5, 4, 7, 6, 8, 0, 10, 19, 12, 11, 15, 13, 14]\n",
            "0   [0, 3, 1, 9, 5, 4, 7, 6, 8, 2, 10, 19, 12, 11, 15, 13, 14]\n",
            "2   [0, 1, 2, 9, 5, 4, 7, 6, 8, 3, 10, 19, 12, 11, 15, 13, 14]\n",
            "3   [0, 1, 2, 3, 5, 4, 7, 6, 8, 9, 10, 19, 12, 11, 15, 13, 14]\n",
            "9   [0, 1, 2, 3, 5, 4, 7, 6, 8, 9, 10, 19, 12, 11, 15, 13, 14]\n",
            "8   [0, 1, 2, 3, 5, 4, 7, 6, 8, 9, 10, 19, 12, 11, 15, 13, 14]\n",
            "6   [0, 1, 2, 3, 5, 4, 6, 7, 8, 9, 10, 19, 12, 11, 15, 13, 14]\n",
            "4   [0, 1, 2, 3, 4, 5, 6, 7, 8, 9, 10, 19, 12, 11, 15, 13, 14]\n",
            "14   [0, 1, 2, 3, 4, 5, 6, 7, 8, 9, 10, 12, 11, 13, 14, 19, 15]\n",
            "13   [0, 1, 2, 3, 4, 5, 6, 7, 8, 9, 10, 12, 11, 13, 14, 19, 15]\n",
            "11   [0, 1, 2, 3, 4, 5, 6, 7, 8, 9, 10, 11, 12, 13, 14, 19, 15]\n",
            "15   [0, 1, 2, 3, 4, 5, 6, 7, 8, 9, 10, 11, 12, 13, 14, 15, 19]\n",
            "[0, 1, 2, 3, 4, 5, 6, 7, 8, 9, 10, 11, 12, 13, 14, 15, 19]\n"
          ]
        }
      ],
      "source": [
        "#QuickSort\n",
        "def QSort(v, i, f):\n",
        "    if(f > i):\n",
        "        p = partition(v, i, f) # partir listas em menor e maiores\n",
        "        print(v[p],\" \",v)\n",
        "        QSort(v, i, p-1)       # aplicar mesma ideia a lista de menores\n",
        "        QSort(v, p+1, f)       # e a lista de maiores (do que pivot)\n",
        "        \n",
        "        \n",
        "a=[14,2,3,12,1,9,5,4,11,13,7,19,6,8,15,0,10]\n",
        "QSort(a,0,len(a)-1)\n",
        "print(a)"
      ]
    },
    {
      "cell_type": "markdown",
      "id": "CHc2RxfX-d9V",
      "metadata": {
        "id": "CHc2RxfX-d9V"
      },
      "source": [
        "3) Pesquisar num array ordenado (por número) de tuplos de alunos (com nº, nome e média e idade) pelo nº e retornar o nome. Apresentar também uma versão do QuickSort para tuplos ordenando por nº."
      ]
    },
    {
      "cell_type": "code",
      "execution_count": null,
      "id": "interesting-short",
      "metadata": {
        "id": "interesting-short",
        "outputId": "bc5ec10a-5bbb-4082-9f8e-f2924e4de12c"
      },
      "outputs": [
        {
          "name": "stdout",
          "output_type": "stream",
          "text": [
            "[(15, 'ana', 15.2, 18), (12, 'joao', 14.5, 19), (17, 'jorge', 19.0, 18), (5, 'paulo', 18.2, 20), (1, 'rui', 12.5, 19)]\n",
            "1\n"
          ]
        }
      ],
      "source": [
        "\n",
        "alunos =[(12,\"joao\",14.5,19),(15,\"ana\",15.2,18),(1,\"rui\",12.5,19), (5,\"paulo\",18.2,20),(17,\"jorge\",19.0,18)]\n",
        "QSort_tuplo(alunos,0,len(alunos)-1,0)\n",
        "print(alunos)\n",
        "idx = binfind_tuplo(alunos,5,0)\n",
        "if(idx != -1):\n",
        "    print(alunos[idx])"
      ]
    },
    {
      "attachments": {},
      "cell_type": "markdown",
      "id": "suited-mainland",
      "metadata": {
        "id": "suited-mainland"
      },
      "source": [
        "4) Implementar uma versão de um algoritmo de ordenação que elimine os duplicados de um array."
      ]
    },
    {
      "cell_type": "code",
      "execution_count": 2,
      "id": "identified-sherman",
      "metadata": {
        "id": "identified-sherman",
        "outputId": "a75e473a-8a25-4792-b9db-131b4101629b"
      },
      "outputs": [
        {
          "name": "stdout",
          "output_type": "stream",
          "text": [
            "[1, 2, 3, 4, 5, 6, 7, 8, 9, 11, 12, 24]\n"
          ]
        }
      ],
      "source": [
        "# QSort a eliminar duplicados no array.\n",
        "def non_duplicates_qsort(arr : list) -> list:\n",
        "    if len(arr) < 2:\n",
        "        return arr \n",
        "    \n",
        "    h = arr[0]\n",
        "    ys, zs = [], []\n",
        "    for i in range(1, len(arr)):\n",
        "        \n",
        "        if (arr[i] < h and arr[i] not in ys):\n",
        "            ys.append(arr[i])\n",
        "        elif(arr[i] > h and arr[i] not in zs):\n",
        "            zs.append(arr[i])\n",
        "\n",
        "    return non_duplicates_qsort(ys) + [h] + non_duplicates_qsort(zs)\n",
        "\n",
        "\n",
        "arr = [1,6,8,1,4,2,3,7,11,7,12,11,24,6,5,8,9]\n",
        "\n",
        "print(non_duplicates_qsort(arr))"
      ]
    },
    {
      "cell_type": "markdown",
      "id": "dirty-rings",
      "metadata": {
        "id": "dirty-rings"
      },
      "source": [
        "5) Definir uma função que recebe um array de tuplos com a informação de um conjunto de alunos com:\n",
        "    nome, nº, média das notas e idades. A função ordena o array tendo em conta a média."
      ]
    },
    {
      "cell_type": "code",
      "execution_count": 3,
      "id": "individual-miami",
      "metadata": {
        "id": "individual-miami",
        "outputId": "344a0b96-d729-445a-a53b-0a0f80679398"
      },
      "outputs": [
        {
          "name": "stdout",
          "output_type": "stream",
          "text": [
            "[(1, 'rui', 12.5, 19), (12, 'joao', 14.5, 19), (15, 'ana', 15.2, 18), (5, 'paulo', 18.2, 20), (17, 'jorge', 19.0, 18)]\n"
          ]
        }
      ],
      "source": [
        "# QSort de um array de tuplos de alunos (num, nome, média, idade) pela média\n",
        "def qsort_media(arr : list) -> list:\n",
        "    if len(arr) < 2:\n",
        "        return arr \n",
        "    \n",
        "    h = arr[0]\n",
        "    ys, zs = [], []\n",
        "\n",
        "    for i in range(1, len(arr)):\n",
        "\n",
        "        if (arr[i][2] <= h[2]):\n",
        "            ys.append(arr[i])\n",
        "        else:\n",
        "            zs.append(arr[i])\n",
        "\n",
        "    return qsort_media(ys) + [h] + qsort_media(zs)\n",
        "\n",
        "\n",
        "alunos =[(12,\"joao\",14.5,19),(15,\"ana\",15.2,18),(1,\"rui\",12.5,19), (5,\"paulo\",18.2,20),(17,\"jorge\",19.0,18)]\n",
        "\n",
        "print(qsort_media(alunos))\n"
      ]
    },
    {
      "cell_type": "markdown",
      "id": "western-thesis",
      "metadata": {
        "id": "western-thesis"
      },
      "source": [
        "6) Ordenar o array de tuplos pela idade e adicionar um desempate na ordenação (casos com a mesma idade) usando a média."
      ]
    },
    {
      "cell_type": "code",
      "execution_count": 4,
      "id": "material-district",
      "metadata": {
        "id": "material-district"
      },
      "outputs": [
        {
          "name": "stdout",
          "output_type": "stream",
          "text": [
            "[(15, 'ana', 15.2, 18), (17, 'jorge', 19.0, 18), (1, 'rui', 12.5, 19), (12, 'joao', 14.5, 19), (5, 'paulo', 18.2, 20)]\n"
          ]
        }
      ],
      "source": [
        "# QSort de um array de tuplos de alunos (num, nome, média, idade) pela idade, com desempate pela média\n",
        "def qsort_idade(arr : list) -> list:\n",
        "    if len(arr) < 2:\n",
        "        return arr \n",
        "    \n",
        "    h = arr[0]\n",
        "    ys, zs = [], []\n",
        "    yss, zss = [], []\n",
        "\n",
        "    for i in range(1, len(arr)):\n",
        "\n",
        "        if (arr[i][-1] < h[-1]):\n",
        "            ys.append(arr[i])\n",
        "        elif (arr[i][-1] == h[-1] and arr[i][2] <= h[2]):\n",
        "            yss.append(arr[i])\n",
        "        elif (arr[i][-1] == h[-1] and arr[i][2] > h[2]):\n",
        "            zss.append(arr[i])\n",
        "        else:\n",
        "            zs.append(arr[i])\n",
        "\n",
        "    return qsort_idade(ys) + qsort_idade(yss) + [h] + qsort_idade(zss) + qsort_idade(zs)\n",
        "\n",
        "\n",
        "alunos =[(12,\"joao\",14.5,19),(15,\"ana\",15.2,18),(1,\"rui\",12.5,19), (5,\"paulo\",18.2,20),(17,\"jorge\",19.0,18)]\n",
        "\n",
        "print(qsort_idade(alunos))"
      ]
    },
    {
      "cell_type": "markdown",
      "id": "functional-virgin",
      "metadata": {
        "id": "functional-virgin"
      },
      "source": [
        "7) Escrever uma função que dada uma sequência de números identifica o par de elementos com menor distância de valor entre eles."
      ]
    },
    {
      "cell_type": "code",
      "execution_count": 30,
      "id": "asian-appraisal",
      "metadata": {
        "id": "asian-appraisal",
        "outputId": "f49b9e91-ef42-4355-c0ef-1d65ab4b425e"
      },
      "outputs": [
        {
          "name": "stdout",
          "output_type": "stream",
          "text": [
            "Elementos mais próximos: (22,26).\n",
            "Distância: 4\n"
          ]
        }
      ],
      "source": [
        "# Par de elementos mais próximos num array \n",
        "def dist(arr : list):\n",
        "    if len(arr) == 2:\n",
        "        return arr[0], arr[1]\n",
        "    \n",
        "    _min = abs(arr[0] - arr[1])\n",
        "    p1, p2 = 0, 1 \n",
        "\n",
        "    for i in range(0, len(arr)):\n",
        "        for j in range(i+1, len(arr)):\n",
        "            if abs(arr[i] - arr[j]) < _min:\n",
        "                _min = abs(arr[i] - arr[j]) \n",
        "                p1, p2 = i, j\n",
        "\n",
        "    return arr[p1], arr[p2] \n",
        "\n",
        "\n",
        "lista= [15,234,22,1022,56,117,141,26]\n",
        "x1, x2 = dist(lista)\n",
        "\n",
        "print(\"Elementos mais próximos: ({},{}).\\nDistância: {}\".format(x1, x2, abs(x1-x2)))"
      ]
    },
    {
      "cell_type": "markdown",
      "id": "satellite-attack",
      "metadata": {
        "id": "satellite-attack"
      },
      "source": [
        "8) Codifique um programa em Python que dado um array com múltiplas ocorrências de diferentes valores numéricos identifica o valor mais frequente (moda). (A ideia é usar a função binsearch() para pesquisar valores sobre o array ordenado. Sem usar dicionários!!!)"
      ]
    },
    {
      "cell_type": "code",
      "execution_count": 38,
      "id": "interested-airport",
      "metadata": {
        "id": "interested-airport",
        "outputId": "8fe5ffaa-b6e6-44f0-a573-0b8dec12f659"
      },
      "outputs": [
        {
          "name": "stdout",
          "output_type": "stream",
          "text": [
            "(2, 5)\n"
          ]
        }
      ],
      "source": [
        "# Calcula a moda (sem dicionários, pesquisa only)\n",
        "v = sorted([8,2,2,1, 5,2,2, 4, 4, 6, 8,5,1,2,8,1,7,8])\n",
        "\n",
        "def binsearch(x : int, arr : list):\n",
        "    i, j = 0, len(arr) - 1\n",
        "    m = (i + j) // 2 \n",
        "\n",
        "    while(i <= j and x != arr[m]):\n",
        "        m = (i + j) // 2 \n",
        "\n",
        "        if (x > arr[m]):\n",
        "            i = m + 1 \n",
        "        else:\n",
        "            j = m - 1 \n",
        "        \n",
        "    if (arr[m] == x):\n",
        "        return m \n",
        "    else:\n",
        "        return -1 \n",
        "    \n",
        "def moda(arr : list): \n",
        "    n, _max = arr[0], 1\n",
        "\n",
        "    for x in arr:\n",
        "        if (x == -1):\n",
        "            continue\n",
        "        \n",
        "        indx, cnt = binsearch(x, arr), 0 \n",
        "        while(indx != -1):\n",
        "            cnt += 1 \n",
        "            del arr[indx]\n",
        "\n",
        "            indx = binsearch(x, arr)\n",
        "\n",
        "        if cnt > _max:\n",
        "            n, _max = x, cnt \n",
        "\n",
        "    return n, _max \n",
        "\n",
        "print(moda(v))"
      ]
    },
    {
      "cell_type": "markdown",
      "id": "sE7IYYOQDsuY",
      "metadata": {
        "id": "sE7IYYOQDsuY"
      },
      "source": [
        "9) Implemente uma função de pesquisa sobre um array não ordenado. A função deve retornar o índice da ocorrência ou -1 no caso de não ocorrência."
      ]
    },
    {
      "cell_type": "code",
      "execution_count": 39,
      "id": "qlErXRRtGii3",
      "metadata": {
        "id": "qlErXRRtGii3"
      },
      "outputs": [
        {
          "name": "stdout",
          "output_type": "stream",
          "text": [
            "0\n",
            "1\n",
            "2\n",
            "3\n",
            "4\n",
            "5\n",
            "6\n",
            "7\n",
            "1\n",
            "2\n",
            "10\n",
            "11\n"
          ]
        }
      ],
      "source": [
        "# Search function \n",
        "def search(x, arr : list) -> int:\n",
        "    i = 0 \n",
        "\n",
        "    while (arr[i] != x and i < len(arr)):\n",
        "        i+=1 \n",
        "\n",
        "    # Elemento encontrado\n",
        "    if (arr[i] == x):\n",
        "        return i\n",
        "    # Elemento não encontrado \n",
        "    else:\n",
        "        return -1 \n",
        "\n",
        "arr = [8,5,3,9,1,2,4,77,5,3,13,15]\n",
        "for x in arr:\n",
        "    print(search(x, arr))\n",
        "    \n"
      ]
    },
    {
      "cell_type": "markdown",
      "id": "lKyKZVeZGkYI",
      "metadata": {
        "id": "lKyKZVeZGkYI"
      },
      "source": [
        "10) Escreva uma função que ordena um array de tuplos. Os tuplos representam funcionários de uma empresa contendo o nº de funcionário, o nome, a idade, a altura e o seu score de produtividade (de 1-200). Pretende-se fazer uma seriação destes funcionários dando prioridade ao score, depois à altura que deve ser o mais perto de 1.85 e finalmente à idade (preferindo primeiro os mais novos)."
      ]
    },
    {
      "cell_type": "code",
      "execution_count": 40,
      "id": "1uzBll7QHLeI",
      "metadata": {
        "id": "1uzBll7QHLeI"
      },
      "outputs": [
        {
          "name": "stdout",
          "output_type": "stream",
          "text": [
            "[(4, 'Filipa', 19, 1.7, 90), (1, 'Clara', 25, 1.67, 100), (2, 'Joao', 29, 1.7, 120), (3, 'Andrade', 40, 1.87, 170), (7, 'Mario', 30, 1.75, 180), (5, 'Cabral', 23, 1.75, 180), (6, 'Horacio', 22, 1.8, 180)]\n"
          ]
        }
      ],
      "source": [
        "# Specific tuple sort \n",
        "\n",
        "def worker_sort(arr : list) -> list:\n",
        "    if len(arr) < 2:\n",
        "        return arr\n",
        "\n",
        "    h = arr[0]\n",
        "    ys, zs = [], []\n",
        "\n",
        "    for i in range(1, len(arr)):\n",
        "        \n",
        "        # Produtividade inferior a h \n",
        "        if (arr[i][-1] < h[-1]): \n",
        "            ys.append(arr[i])\n",
        "        \n",
        "        # Produtividade superior a h\n",
        "        elif (arr[i][-1] > h[-1]):\n",
        "            zs.append(arr[i])\n",
        "\n",
        "        # Altura mais próxima de 1.85 do que o h \n",
        "        elif(abs(arr[i][-2] - 1.85) < abs(h[-2] - 1.85)):\n",
        "            zs.append(arr[i])\n",
        "        \n",
        "        # Altura mais afastada de 1.85 do que o h \n",
        "        elif(abs(arr[i][-2] - 1.85) > abs(h[-2] - 1.85)):\n",
        "            ys.append(arr[i])\n",
        "\n",
        "        # Idade menor (ou igual) que a de h \n",
        "        elif (arr[i][2] <= h[2]):\n",
        "            zs.append(arr[i])\n",
        "        \n",
        "        # Idade maior que a de h \n",
        "        else:\n",
        "            ys.append(arr[i])\n",
        "        \n",
        "    return worker_sort(ys) + [h] + worker_sort(zs)\n",
        "\n",
        "\n",
        "arr = [(1, \"Clara\", 25, 1.67, 100), (2, \"Joao\", 29, 1.70, 120), (3, \"Andrade\", 40, 1.87, 170), (4, \"Filipa\", 19, 1.70, 90), (5, \"Cabral\", 23, 1.75, 180),\n",
        "       (6, \"Horacio\", 22, 1.80, 180), (7, \"Mario\", 30, 1.75, 180)]\n",
        "\n",
        "print(worker_sort(arr))\n"
      ]
    }
  ],
  "metadata": {
    "colab": {
      "provenance": []
    },
    "kernelspec": {
      "display_name": "Python 3 (ipykernel)",
      "language": "python",
      "name": "python3"
    },
    "language_info": {
      "codemirror_mode": {
        "name": "ipython",
        "version": 3
      },
      "file_extension": ".py",
      "mimetype": "text/x-python",
      "name": "python",
      "nbconvert_exporter": "python",
      "pygments_lexer": "ipython3",
      "version": "3.9.6"
    }
  },
  "nbformat": 4,
  "nbformat_minor": 5
}
