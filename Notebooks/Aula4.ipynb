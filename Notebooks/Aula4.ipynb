{
  "cells": [
    {
      "cell_type": "markdown",
      "id": "w5tW6Rzg9JWU",
      "metadata": {
        "id": "w5tW6Rzg9JWU"
      },
      "source": [
        "# Dicionários"
      ]
    },
    {
      "cell_type": "markdown",
      "id": "HfUInVUXBU8d",
      "metadata": {
        "id": "HfUInVUXBU8d"
      },
      "source": [
        "#### Dicionários\n",
        "\n",
        "O Python oferece uma estrutura de dados bastante eficiente para registo de correspondências (mappings). Podemos ver estra estrutura de dados (Dicionários) como a implementação de uma função finita entre um elemento chave e um elemento valor. O elemento valor pode ser complexo e até ser ele próprio um dicionário.\n",
        "\n",
        "Para esta disciplina vai ser bastante úitl para a implementação de grafos e consequentemente a automatização dos autómatos dados nas aulas teóricas.\n",
        "\n",
        "\n",
        "Em computação, dicionários são conhecidos como $hashtables$. Dicionários sao uma generalização de arrays: em vez de somente valores inteiros dentro de uma determinada gama poderem ser índices dos array, em dicionários qualquer tipo de dado pode ser índice do \"array\". Na verdade, não falamos em índices mas sim em chaves. E temos uma coleção de chaves a fazer correpondencia com uma coleção de valores. Temos assim uma associação chave-valor.\n",
        "A cada chave corresponde um único valor!\n",
        "\n",
        "\n",
        "Temos assim um dicionário a representar um \"mapping\" entre chaves e valores. Por de trás desta correspondencia entre chaves e valor há um processo \"mais ou menos complexo\" de associar cada chave à posição de memória onde está o correspondente valor (tal qual os índices no array). Este processo chama-se $hashing$ e faz uso de uma função matemática de $hash$ para dada a chave obter a posição do valor. Devemos usar chaves simples e.g. inteiros, strings ou composição de ambos para facilitar o processo de hashing. As chaves não devem ser objetos mutáveis (como listas)!!!\n",
        "\n",
        "Em python temos a seguinte funçao para criar dicionários:"
      ]
    },
    {
      "cell_type": "code",
      "execution_count": 9,
      "id": "nUzZri4bAUpL",
      "metadata": {
        "colab": {
          "base_uri": "https://localhost:8080/"
        },
        "id": "nUzZri4bAUpL",
        "outputId": "46c4fbc3-99f5-453c-b209-ff755c6a8ca1"
      },
      "outputs": [
        {
          "data": {
            "text/plain": [
              "{}"
            ]
          },
          "execution_count": 9,
          "metadata": {},
          "output_type": "execute_result"
        }
      ],
      "source": [
        "# exemplos\n",
        "dict1 = dict()\n",
        "dict1"
      ]
    },
    {
      "cell_type": "markdown",
      "id": "wckEVEoUBje1",
      "metadata": {
        "id": "wckEVEoUBje1"
      },
      "source": [
        "As $\\{ \\}$ indica estrutura vazia. Vamos ter este dicionário para criar uma associação entre palavras em inglês e em português. Um exemplo de definir uma associação:"
      ]
    },
    {
      "cell_type": "code",
      "execution_count": 10,
      "id": "1EGYkJCgBlsC",
      "metadata": {
        "id": "1EGYkJCgBlsC"
      },
      "outputs": [],
      "source": [
        "dict1['one'] = 'um'\n",
        "dict1[\"two\"] = \"dois\"\n",
        "dict1[\"three\"] = \"três\""
      ]
    },
    {
      "cell_type": "markdown",
      "id": "qg6gjDjfBo3r",
      "metadata": {
        "id": "qg6gjDjfBo3r"
      },
      "source": [
        "Criamos um mapeamento entre 'one' palavra inglesa para 'um' palavra portuguesa. \n",
        "A estrutura entre chavetas é a representação do dicionário. Podemos criar um conjunto de associações de uma vez só!"
      ]
    },
    {
      "cell_type": "code",
      "execution_count": 11,
      "id": "bygdqcP4Bs5b",
      "metadata": {
        "id": "bygdqcP4Bs5b"
      },
      "outputs": [],
      "source": [
        "dict1 = {'one':'um', 'two': 'dois', 'three': 'três', 'four': 'quatro', 'five':'cinco', 'six':'seis', 'ten':'dez'}"
      ]
    },
    {
      "cell_type": "markdown",
      "id": "1kMbHTAPBz-p",
      "metadata": {
        "id": "1kMbHTAPBz-p"
      },
      "source": [
        "No entanto se imprimirmos a estrutura da var $dict1$ podemos ficar surpreendidos! A ordem de introdução dos dados\n",
        "nem sempre tem a ver com a sua representação interna...\n",
        "Dicionarios são das representações mais eficientes quando queremos ter informação que vai ser exustivamente pesquisada e que tem poucas alterações. A complexidade da pesquisa da informação é feito em tempo constante!"
      ]
    },
    {
      "cell_type": "code",
      "execution_count": 12,
      "id": "naib13WcB5UW",
      "metadata": {
        "colab": {
          "base_uri": "https://localhost:8080/"
        },
        "id": "naib13WcB5UW",
        "outputId": "3a215146-c7f6-4fb2-88f8-c95241dc475e"
      },
      "outputs": [
        {
          "data": {
            "text/plain": [
              "{'one': 'um',\n",
              " 'two': 'dois',\n",
              " 'three': 'três',\n",
              " 'four': 'quatro',\n",
              " 'five': 'cinco',\n",
              " 'six': 'seis',\n",
              " 'ten': 'dez'}"
            ]
          },
          "execution_count": 12,
          "metadata": {},
          "output_type": "execute_result"
        }
      ],
      "source": [
        "dict1\n"
      ]
    },
    {
      "cell_type": "code",
      "execution_count": 13,
      "id": "fkGq0wmACAEa",
      "metadata": {
        "colab": {
          "base_uri": "https://localhost:8080/"
        },
        "id": "fkGq0wmACAEa",
        "outputId": "7272f1a9-57c8-4712-9890-61e246bb6260"
      },
      "outputs": [
        {
          "name": "stdout",
          "output_type": "stream",
          "text": [
            "['five', 'four', 'one', 'six', 'ten', 'three', 'two']\n"
          ]
        }
      ],
      "source": [
        "# mas podemos ordenar as chaves usando sorted() - notar ordem alfabética\n",
        "print(sorted(dict1))"
      ]
    },
    {
      "cell_type": "code",
      "execution_count": 14,
      "id": "e7eHQm-aCFpp",
      "metadata": {
        "colab": {
          "base_uri": "https://localhost:8080/",
          "height": 221
        },
        "id": "e7eHQm-aCFpp",
        "outputId": "a74fd822-9496-4b23-c8a9-4b632fc4c7e9"
      },
      "outputs": [
        {
          "name": "stdout",
          "output_type": "stream",
          "text": [
            "dois\n"
          ]
        },
        {
          "ename": "KeyError",
          "evalue": "'nine'",
          "output_type": "error",
          "traceback": [
            "\u001b[0;31m---------------------------------------------------------------------------\u001b[0m",
            "\u001b[0;31mKeyError\u001b[0m                                  Traceback (most recent call last)",
            "Cell \u001b[0;32mIn[14], line 6\u001b[0m\n\u001b[1;32m      3\u001b[0m \u001b[39mprint\u001b[39m(A)\n\u001b[1;32m      5\u001b[0m \u001b[39m# se a chave não existir obtemos um erro!\u001b[39;00m\n\u001b[0;32m----> 6\u001b[0m \u001b[39mprint\u001b[39m(dict1[\u001b[39m'\u001b[39;49m\u001b[39mnine\u001b[39;49m\u001b[39m'\u001b[39;49m])\n",
            "\u001b[0;31mKeyError\u001b[0m: 'nine'"
          ]
        }
      ],
      "source": [
        "# procurar uma informação dada a chave de acesso\n",
        "A = dict1['two']\n",
        "print(A)\n",
        "\n",
        "# se a chave não existir obtemos um erro!\n",
        "print(dict1['nine'])"
      ]
    },
    {
      "cell_type": "code",
      "execution_count": 15,
      "id": "HZPhA-VnCJok",
      "metadata": {
        "colab": {
          "base_uri": "https://localhost:8080/"
        },
        "id": "HZPhA-VnCJok",
        "outputId": "8c970f9d-fa10-4b5f-c49b-69c838ef28ec"
      },
      "outputs": [
        {
          "data": {
            "text/plain": [
              "{'two': 'dois',\n",
              " 'three': 'três',\n",
              " 'four': 'quatro',\n",
              " 'five': 'cinco',\n",
              " 'six': 'seis',\n",
              " 'ten': 'dez'}"
            ]
          },
          "execution_count": 15,
          "metadata": {},
          "output_type": "execute_result"
        }
      ],
      "source": [
        "# Eliminar uma correspondência num dicionário com o comando 'del'\n",
        "del dict1['one']\n",
        "dict1"
      ]
    },
    {
      "cell_type": "code",
      "execution_count": 16,
      "id": "nbTMUxUACN1U",
      "metadata": {
        "colab": {
          "base_uri": "https://localhost:8080/"
        },
        "id": "nbTMUxUACN1U",
        "outputId": "9367599d-4e2e-407e-d18e-ab2e2adb5702"
      },
      "outputs": [
        {
          "name": "stdout",
          "output_type": "stream",
          "text": [
            "6\n",
            "sim\n",
            "dois\n",
            "três\n",
            "quatro\n",
            "cinco\n",
            "seis\n",
            "dez\n",
            "two\n",
            "three\n",
            "four\n",
            "five\n",
            "six\n",
            "ten\n",
            "{1: [1, 2, 3], 2: [4, 5, 6], 3: [12, 19, 14]}\n",
            "[1, 2, 3]\n",
            "{1: {'a': 1, 'b': 3}, 2: {1: [3, 4], 3: [5]}}\n",
            "{1: [3, 4], 3: [5]}\n",
            "[3, 4]\n"
          ]
        }
      ],
      "source": [
        "# Tal como nos array, len funciona em dicionários\n",
        "print(len(dict1))\n",
        "\n",
        "# 'in' tambem funciona neste contexto. Basicamente diz se uma chave existe no conjunto de chaves do dicionário\n",
        "if('two' in dict1):\n",
        "    print(\"sim\")\n",
        "\n",
        "# Algo analogo podemos fazer com o conjunto dos valores que estão associados às chaves.\n",
        "# a função vals() retorna uma coleção dos valores no dicionário. Podemos iterar sobre eles para\n",
        "# imprimir a coleção toda.\n",
        "v = dict1.values()\n",
        "for x in v:\n",
        "    print(x)\n",
        "\n",
        "for x in dict1:\n",
        "  print(x)\n",
        "\n",
        "dict2 = {1:[1,2,3],2:[4,5,6],3:[12,19,14]}\n",
        "print(dict2)\n",
        "print(dict2[1])\n",
        "dict3 = {1:{'a':1,'b':3}, 2:{1:[3,4],3:[5]} }\n",
        "print(dict3)\n",
        "print(dict3[2])\n",
        "print(dict3[2][1])"
      ]
    },
    {
      "cell_type": "markdown",
      "id": "ft4ocgn9CRzC",
      "metadata": {
        "id": "ft4ocgn9CRzC"
      },
      "source": [
        "Podemos voltar a implementar o exercício do histogramas das letras sobre uma frase agora usando dicionários:"
      ]
    },
    {
      "cell_type": "code",
      "execution_count": 18,
      "id": "qQFpppVnCkzx",
      "metadata": {
        "colab": {
          "base_uri": "https://localhost:8080/"
        },
        "id": "qQFpppVnCkzx",
        "outputId": "d1b8948f-70d3-44a1-c849-b8e92c125cc9"
      },
      "outputs": [
        {
          "name": "stdout",
          "output_type": "stream",
          "text": [
            "A:  ***\n",
            "B:  *\n",
            "C:  *\n",
            "D:  *\n",
            "E:  *****\n",
            "F:  *\n",
            "G:  *\n",
            "H:  *\n",
            "I:  *\n",
            "J:  \n",
            "K:  \n",
            "L:  *\n",
            "M:  *\n",
            "N:  ***\n",
            "O:  ****\n",
            "P:  \n",
            "Q:  \n",
            "R:  \n",
            "S:  *\n",
            "T:  *\n",
            "U:  *\n",
            "V:  \n",
            "W:  \n",
            "X:  \n",
            "Y:  *\n",
            "Z:  \n"
          ]
        }
      ],
      "source": [
        "# função que produz um dicinario com a frequência das palavras\n",
        "def histo(texto : str):\n",
        "    d = dict()\n",
        "    texto = texto.upper()\n",
        "    \n",
        "    for i in range(0,len(texto)):\n",
        "        if(texto[i] != ' '):\n",
        "            if(texto[i] not in d):\n",
        "                d[texto[i]] = 1\n",
        "            else:\n",
        "                d[texto[i]] += 1\n",
        "                \n",
        "    return d\n",
        "\n",
        "# imprime o histograma\n",
        "def printa_hist(d : dict):\n",
        "    for j in range(0,26):\n",
        "        print(chr(j+65)+str(\":  \"),end=\"\")\n",
        "        if(chr(j+65) in d):\n",
        "            for x in range(0,d[chr(j+65)]):\n",
        "                print(\"*\",end=\"\")\n",
        "        print()\n",
        "        \n",
        "texto = \"I am a legend. You can be one of those\"\n",
        "a = histo(texto)\n",
        "printa_hist(a)"
      ]
    },
    {
      "cell_type": "markdown",
      "id": "8zXrXvTWDYSp",
      "metadata": {
        "id": "8zXrXvTWDYSp"
      },
      "source": [
        "Exercicio: Implementar um função que dada um array de valores numéricos devolve a moda dessa coleção. Usar dicionários."
      ]
    },
    {
      "cell_type": "code",
      "execution_count": 121,
      "id": "hLIphDsNDcB0",
      "metadata": {
        "colab": {
          "base_uri": "https://localhost:8080/"
        },
        "id": "hLIphDsNDcB0",
        "outputId": "e1880dd1-b225-419d-f248-5f6105bf0083"
      },
      "outputs": [
        {
          "name": "stdout",
          "output_type": "stream",
          "text": [
            "3\n"
          ]
        }
      ],
      "source": [
        "# Moda \n",
        "arr = [2,3,1,2,3,4,5,7,8,9,4,6,9,3,1,2,7,5,4,3,2,8] \n",
        "\n",
        "def moda(arr : list):\n",
        "    d = dict()\n",
        "    v, freq = -1, -1 \n",
        "\n",
        "    for x in arr:\n",
        "        if x in d.keys():\n",
        "            d[x] += 1\n",
        "            if d[x] > freq:\n",
        "                v, freq = x, d[x]\n",
        "        else:\n",
        "            d[x] = 1 \n",
        "    \n",
        "    return v \n",
        "\n",
        "print(moda(arr))"
      ]
    },
    {
      "cell_type": "markdown",
      "id": "ck6g13OCDwSx",
      "metadata": {
        "id": "ck6g13OCDwSx"
      },
      "source": [
        "#### Coleções como valores em Dicionários\n",
        "\n",
        "Como foi dito anteriormente, podemos associar um chave a um valor composto. Por exemplo uma array (ou lista), ou até a um dicionário!!! Associar uma chave a uma lista de valores vai ser importante para implementar grafos.\n",
        "\n",
        "Vamos ver alguns exemplos. Primeiro, vamos fazer uma função $inverte\\_dict$ que inverte a associação num dicionário.\n",
        "No exercício anterior isto vai resultar numa frequência (valor numérico) associada a uma lista de letras com essa frequência."
      ]
    },
    {
      "cell_type": "code",
      "execution_count": 122,
      "id": "n9VAagRFDyKZ",
      "metadata": {
        "colab": {
          "base_uri": "https://localhost:8080/"
        },
        "id": "n9VAagRFDyKZ",
        "outputId": "ce741922-5a98-4cbe-eb70-125cd9322344"
      },
      "outputs": [
        {
          "name": "stdout",
          "output_type": "stream",
          "text": [
            "{9: ['A'], 1: ['L', 'P', 'B'], 2: ['G', 'O', 'S', 'M'], 4: ['R', 'E'], 6: ['T']}\n"
          ]
        }
      ],
      "source": [
        "# Inversão de um dicionario\n",
        "def invert_dict(d):\n",
        "    inverse = dict()\n",
        "    for key in d:\n",
        "        val = d[key]\n",
        "        if val not in inverse:\n",
        "            inverse[val] = [key]\n",
        "        else:\n",
        "            inverse[val] += [key]\n",
        "            \n",
        "    return inverse\n",
        "\n",
        "texto = \"Algo para testar esta treta agora tambem\"\n",
        "a = histo(texto)\n",
        "print(invert_dict(a))"
      ]
    },
    {
      "cell_type": "markdown",
      "id": "fHRXIo9MD5Rq",
      "metadata": {
        "id": "fHRXIo9MD5Rq"
      },
      "source": [
        "Notar que podemos sempre inspeccionar a correspondência e adicionar novos valores (ou até retirar da lista associada)!"
      ]
    },
    {
      "cell_type": "markdown",
      "id": "fgkINipREHOc",
      "metadata": {
        "id": "fgkINipREHOc"
      },
      "source": [
        "#### Exercícios\n",
        "\n",
        "1) Pretende-se representar as compras que cada cliente de um supermercado faz. Assim devemos manter uma estrutura de dados que associa número de um cliente com a lista das suas compras. Nesta lista regista-se o código de cada item comprado. Desenvolva funções que:\n",
        "\n",
        "* permite adicionar novos items (novas compras) a um cliente,\n",
        "* identifique os clientes que compraram um dado item,\n",
        "* identifique o cliente com maiore número de items diferentes comprados,\n",
        "* construa um dicionário que relacione items com código de clientes.\n",
        "* desenvolva um dicionário onde é possível registar também as quantidades que cada produto foi consumido por cada cliente."
      ]
    },
    {
      "cell_type": "code",
      "execution_count": 316,
      "id": "k0Q8mIGeEKUx",
      "metadata": {
        "colab": {
          "base_uri": "https://localhost:8080/"
        },
        "id": "k0Q8mIGeEKUx",
        "outputId": "dd8058d9-f5d8-4d74-8237-e64eacea15d9"
      },
      "outputs": [
        {
          "name": "stdout",
          "output_type": "stream",
          "text": [
            "{'joao': {'banana': 2, 'iogurte': 3, 'queijo': 1}, 'miguel': {'arroz': 4, 'frango': 2, 'fiambre': 1, 'cerveja': 1}, 'clara': {'banana': 1, 'pao': 2, 'iogurte': 1}}\n",
            "{'joao': {'banana': 2, 'iogurte': 3, 'queijo': 1}, 'miguel': {'arroz': 4, 'frango': 2, 'fiambre': 1, 'cerveja': 1}, 'clara': {'banana': 1, 'pao': 2, 'iogurte': 1}, 'joana': {'banana': 1}}\n",
            "['joao', 'clara', 'joana']\n",
            "miguel\n",
            "{'banana': ['joao', 'clara', 'joana'], 'iogurte': ['joao', 'clara'], 'queijo': ['joao'], 'arroz': ['miguel'], 'frango': ['miguel'], 'fiambre': ['miguel'], 'cerveja': ['miguel'], 'pao': ['clara']}\n"
          ]
        }
      ],
      "source": [
        "d = {\"joao\":\n",
        "     {\"banana\":2, \n",
        "      \"iogurte\":3,\n",
        "      \"queijo\":1,\n",
        "      },\n",
        "      \"miguel\":\n",
        "      {\"arroz\":4,\n",
        "       \"frango\":2,\n",
        "       \"fiambre\":1,\n",
        "       \"cerveja\":1\n",
        "      },\n",
        "      \"clara\":{\n",
        "        \"banana\":1,\n",
        "        \"pao\":2,\n",
        "        \"iogurte\":1\n",
        "      }}\n",
        "\n",
        "def add_item(d : dict, client, item):\n",
        "    if client in d:\n",
        "        for key in d[client]:\n",
        "            if key == item:\n",
        "                d[client][key] += 1 \n",
        "                return \n",
        "    else:\n",
        "        d[client] = {item:1}\n",
        "        \n",
        "    d[client][item] = 1 \n",
        "\n",
        "def who_bought(d : dict, item) -> list: \n",
        "    l = []\n",
        "\n",
        "    for client in d: \n",
        "        if item in d[client]:\n",
        "            l.append(client) \n",
        "    \n",
        "    return l \n",
        "\n",
        "def best_client(d : dict): \n",
        "    best, ma = -1, -1     \n",
        "\n",
        "    for client in d:\n",
        "        if len(d[client]) > ma:\n",
        "            best, ma = client, len(d[client])\n",
        "    \n",
        "    return best \n",
        "\n",
        "def items_to_clients(d : dict): \n",
        "    inv = dict()\n",
        "\n",
        "    for client in d:\n",
        "        for item in d[client]:\n",
        "            if item not in inv:\n",
        "                inv[item] = [client]\n",
        "            else:\n",
        "                inv[item] += [client]\n",
        "    \n",
        "    return inv \n",
        "\n",
        "print(d)\n",
        "\n",
        "add_item(d, \"joana\", \"banana\")\n",
        "print(d)\n",
        "\n",
        "print(who_bought(d, \"banana\"))\n",
        "\n",
        "print(best_client(d))\n",
        "\n",
        "print(items_to_clients(d))"
      ]
    },
    {
      "cell_type": "markdown",
      "id": "mKrPXxNVEiBN",
      "metadata": {
        "id": "mKrPXxNVEiBN"
      },
      "source": [
        "2) Um servidor de mail tem vários utilizadores. Cada utilizador é identificado por um email (String). Associado a este ideintificador estão as mensagens enviadas (texto). O servidor divide os seus utilizadores por domínios (tipicamente por país e.g. pt, gov, net, edu, etc). Cada mensagem pode ser representada por dois campos: email do remetente e texto da mensagem. As mensagens estão organizadas por data. Apresente funçoes que implementem as seguintes operações:\n",
        "\n",
        "* adicionar novo utilizador,\n",
        "* adicionar nova mensagem a um utilizador,\n",
        "* Identificar o utilizador com mais mensagens,\n",
        "* Identificar o dia com mais mensagens no servidor,\n",
        "* Produzir uma associação entre palavras usadas nas mensagens e lista de utilizadores que as usam (recebem msg com essa palavra),\n",
        "* calcular a palavra mais usada num determinado domínio. \n"
      ]
    },
    {
      "cell_type": "code",
      "execution_count": 12,
      "id": "U1-3EtfSEmUr",
      "metadata": {
        "id": "U1-3EtfSEmUr"
      },
      "outputs": [
        {
          "name": "stdout",
          "output_type": "stream",
          "text": [
            "{'joao@gmail.com': {}, 'falco@gmail.com': {}, 'jose@gmail.gov': {}}\n",
            "{'joao@gmail.com': {}, 'falco@gmail.com': {}, 'jose@gmail.gov': {}, 'jose.silva@gmail.pt': {}}\n",
            "{'joao@gmail.com': {datetime.date(2023, 3, 18): ['Perdi as calças no ginásio.']}, 'falco@gmail.com': {datetime.date(2023, 3, 18): ['Perdi as calças no parlamento.']}, 'jose@gmail.gov': {datetime.date(2023, 3, 18): ['O gato levou-me à praia.', 'Vim embora sozinho.']}, 'jose.silva@gmail.pt': {datetime.date(2023, 3, 18): ['Embora fui-me triste e sozinho.']}}\n",
            "jose@gmail.gov\n",
            "2023-03-18\n",
            "{'perdi': ['joao@gmail.com', 'falco@gmail.com'], 'as': ['joao@gmail.com', 'falco@gmail.com'], 'calças': ['joao@gmail.com', 'falco@gmail.com'], 'no': ['joao@gmail.com', 'falco@gmail.com'], 'ginásio.': ['joao@gmail.com'], 'parlamento.': ['falco@gmail.com'], 'o': ['jose@gmail.gov'], 'gato': ['jose@gmail.gov'], 'levou-me': ['jose@gmail.gov'], 'à': ['jose@gmail.gov'], 'praia.': ['jose@gmail.gov'], 'vim': ['jose@gmail.gov'], 'embora': ['jose@gmail.gov', 'jose.silva@gmail.pt'], 'sozinho.': ['jose@gmail.gov', 'jose.silva@gmail.pt'], 'fui-me': ['jose.silva@gmail.pt'], 'triste': ['jose.silva@gmail.pt'], 'e': ['jose.silva@gmail.pt']}\n",
            "perdi\n",
            "embora\n",
            "o\n"
          ]
        }
      ],
      "source": [
        "from datetime import date \n",
        "\n",
        "d = {\"joao@gmail.com\":{}, \n",
        "     \"falco@gmail.com\":{},\n",
        "     \"jose@gmail.gov\":{}}\n",
        "\n",
        "def add_user(d : dict, email : str):\n",
        "    if email in d:\n",
        "        print(\"O utilizador já se encontra no servidor!\")\n",
        "    else:\n",
        "        d[email] = {}\n",
        "\n",
        "def add_msg(d : dict, email : str, msg : str):\n",
        "    if email not in d:\n",
        "        print(\"O utilizador não se encontra no servidor!\")\n",
        "    else:\n",
        "        if date.today() in d[email]:\n",
        "            d[email][date.today()].append(msg)\n",
        "        else:\n",
        "            d[email][date.today()] = [msg]\n",
        "\n",
        "def top_user(d : dict):\n",
        "    user, ma = -1, -1 \n",
        "    \n",
        "    for email in d:\n",
        "        msg_count = 0\n",
        "\n",
        "        for date in d[email]:\n",
        "            msg_count += len(d[email][date])\n",
        "        \n",
        "        if ma < msg_count:\n",
        "            user, ma = email, msg_count \n",
        "    \n",
        "    return user \n",
        "\n",
        "def top_day(d : dict):\n",
        "    freq = dict()\n",
        "\n",
        "    for email in d:\n",
        "        for date in d[email]:\n",
        "            if date in freq:\n",
        "                freq[date] += len(d[email][date])\n",
        "            else:\n",
        "                freq[date] = len(d[email][date])\n",
        "    \n",
        "    date, msg_count = -1, -1 \n",
        "    for _date in freq:\n",
        "        if freq[_date] > msg_count:\n",
        "            date, msg_count = _date, freq[_date]\n",
        "    \n",
        "    return date \n",
        "\n",
        "def words_from_users(d : dict): \n",
        "    words = dict()\n",
        "\n",
        "    # Itera pelos vários users do servidor\n",
        "    for email in d: \n",
        "\n",
        "        for date in d[email]:\n",
        "\n",
        "            for msg in d[email][date]:\n",
        "\n",
        "                # Obtém a lista de palavras da mensagem \n",
        "                wList = msg.lower().replace(\"; \", \" \").replace(\", \", \" \").replace(\". \", \" \").split(\" \")\n",
        "\n",
        "                for w in wList:\n",
        "\n",
        "                    # Adiciona uma entrada no dicionário com o email do user \n",
        "                    if w not in words:\n",
        "                        words[w] = [email]\n",
        "\n",
        "                    # Adiciona o email do user aos users que usam a palavra \n",
        "                    else:\n",
        "                        words[w].append(email)\n",
        "\n",
        "    return words \n",
        "\n",
        "\n",
        "def most_used(d : dict, dom : str):\n",
        "    words = words_from_users(d) \n",
        "    domWords = dict()\n",
        "\n",
        "    for w in words:\n",
        "        for email in words[w]:\n",
        "            \n",
        "            domain = email.split(\".\").__getitem__(-1)\n",
        "            \n",
        "            if domain == dom:\n",
        "                if w not in domWords:\n",
        "                    domWords[w] = 1 \n",
        "                else:\n",
        "                    domWords[w] += 1 \n",
        "    \n",
        "    word, ma = -1, -1\n",
        "    for w in domWords:\n",
        "        if domWords[w] > ma:\n",
        "            word, ma = w, domWords[w]\n",
        "\n",
        "    return word \n",
        "\n",
        "print(d)\n",
        "\n",
        "add_user(d, \"jose.silva@gmail.pt\")\n",
        "print(d)\n",
        "\n",
        "add_msg(d, \"joao@gmail.com\", \"Perdi as calças no ginásio.\")\n",
        "add_msg(d, \"jose@gmail.gov\", \"O gato levou-me à praia.\")\n",
        "add_msg(d, \"jose@gmail.gov\", \"Vim embora sozinho.\")\n",
        "add_msg(d, \"falco@gmail.com\", \"Perdi as calças no parlamento.\")\n",
        "add_msg(d, \"jose.silva@gmail.pt\", \"Embora fui-me triste e sozinho.\")\n",
        "\n",
        "print(d)\n",
        "\n",
        "print(top_user(d))\n",
        "print(top_day(d))\n",
        "\n",
        "print(words_from_users(d))\n",
        "\n",
        "print(most_used(d, \"com\"))\n",
        "print(most_used(d, \"pt\"))\n",
        "print(most_used(d, \"gov\"))"
      ]
    },
    {
      "cell_type": "markdown",
      "id": "V5-62aIKEqBT",
      "metadata": {
        "id": "V5-62aIKEqBT"
      },
      "source": [
        "3) Implemente uma função que dada uma lista de registo de ocorrência de produtos comprados num supermercado, onde é apenas registado o código de cada produto, imprime ordenadamente (por ordem ascendente de frequência) os pares código/frequência para cada produto registado."
      ]
    },
    {
      "cell_type": "code",
      "execution_count": 27,
      "id": "VxTVijLfErhC",
      "metadata": {
        "id": "VxTVijLfErhC"
      },
      "outputs": [
        {
          "name": "stdout",
          "output_type": "stream",
          "text": [
            "Atum: 1\n",
            "Leite: 2\n",
            "Banana: 3\n",
            "Escova de dentes: 20\n",
            "Papel higiénico: 999\n"
          ]
        }
      ],
      "source": [
        "lista = [(\"banana\", 3), (\"escova de dentes\", 20), (\"papel higiénico\", 999), (\"atum\", 1), (\"leite\", 2)]\n",
        "\n",
        "def tupSort(l : list) -> list:\n",
        "    l.sort(key = lambda x : x[1])\n",
        "    for x in l:\n",
        "        print(\"{}: {}\".format(x[0].capitalize(), x[1]))\n",
        "\n",
        "tupSort(lista)"
      ]
    },
    {
      "cell_type": "code",
      "execution_count": 30,
      "id": "J4QioG9wU7w_",
      "metadata": {
        "colab": {
          "base_uri": "https://localhost:8080/"
        },
        "id": "J4QioG9wU7w_",
        "outputId": "336d1ba9-a050-4a09-e853-53bfb6c5693b"
      },
      "outputs": [
        {
          "name": "stdout",
          "output_type": "stream",
          "text": [
            "{1, 2, 3}\n",
            "{1, 2, 3, 4, 5}\n",
            "{3, 4, 5, 8}\n",
            "True\n"
          ]
        }
      ],
      "source": [
        "#Sets\n",
        "a = set()\n",
        "a = {1,2,3}\n",
        "print(a)\n",
        "a.update({4,5})\n",
        "print(a)\n",
        "\n",
        "c = a.symmetric_difference({1,2,8})\n",
        "print(c)\n",
        "print({3,5}.issubset(c))"
      ]
    },
    {
      "cell_type": "markdown",
      "id": "located-algebra",
      "metadata": {
        "id": "located-algebra"
      },
      "source": [
        "#### Tuplos em Python\n",
        "\n",
        "Uma forma de agregar um conjunto de atributos para representar uma entidade do mundo real é os tuplos em python.\n",
        "Um tuplo é um conjunto de informação agregada numa só estrutura. \n",
        "\n",
        "Tuplos, exemplos e implementações de algoritmos de Sorting com arrays de tuplos."
      ]
    },
    {
      "cell_type": "code",
      "execution_count": 39,
      "id": "reflected-puppy",
      "metadata": {
        "colab": {
          "base_uri": "https://localhost:8080/"
        },
        "id": "reflected-puppy",
        "outputId": "dcd9ca55-d656-49fb-a725-3f5648701e59"
      },
      "outputs": [
        {
          "name": "stdout",
          "output_type": "stream",
          "text": [
            "(1, 'aluno1', 12.5) ('hoje', 'ontem', 'amanha') ('1', 'a', '2') (1,)\n",
            "3 1\n"
          ]
        }
      ],
      "source": [
        "# exemplo de criação de tuplos\n",
        "t1 = tuple((1,\"aluno1\",12.5))\n",
        "# ou então diretamente\n",
        "t2 = \"hoje\",\"ontem\",\"amanha\"\n",
        "# ou\n",
        "t3 = ('1','a','2')\n",
        "# um só campo\n",
        "t4 = 1,\n",
        "\n",
        "print(t1,t2,t3,t4)\n",
        "\n",
        "a,b = divmod(10,3)\n",
        "print(a,b)"
      ]
    },
    {
      "cell_type": "code",
      "execution_count": 41,
      "id": "quality-investment",
      "metadata": {
        "id": "quality-investment",
        "outputId": "2feb5090-aa90-4859-b083-44c83f20b825"
      },
      "outputs": [
        {
          "name": "stdout",
          "output_type": "stream",
          "text": [
            "(1, 'aluno1', 12.5)\n",
            "aluno1\n",
            "('aluno1', 12.5)\n",
            "(32, 'aluno1', 12.5)\n",
            "(32, 'aluno2', 12.5)\n"
          ]
        }
      ],
      "source": [
        "# aceder a um campo é pelo index desse campo (tal como num array)\n",
        "t = tuple((1,\"aluno1\",12.5))\n",
        "print(t)\n",
        "print(t[1])\n",
        "\n",
        "# enumerar campos\n",
        "print(t[1:3])\n",
        "\n",
        "#No entanto, notar! Tuplos são objetos imutáveis!\n",
        "#t[0] = 32\n",
        "\n",
        "# mas podemos susbtituir um tuplo por uma alteração do original\n",
        "t = (32,) + t[1:]\n",
        "print(t)\n",
        "\n",
        "# ou\n",
        "t = (t[0],\"aluno2\",) + t[2:]\n",
        "print(t)"
      ]
    },
    {
      "cell_type": "code",
      "execution_count": 54,
      "id": "quarterly-tunnel",
      "metadata": {
        "id": "quarterly-tunnel",
        "outputId": "3268aeca-3aaa-4022-efe7-5a17db48af2a"
      },
      "outputs": [
        {
          "data": {
            "text/plain": [
              "True"
            ]
          },
          "execution_count": 54,
          "metadata": {},
          "output_type": "execute_result"
        }
      ],
      "source": [
        "# podemos comparar tuplos diretamente...\n",
        "(1,\"aluno1\",12.5) < (1,\"aluno1\",15.4)"
      ]
    },
    {
      "cell_type": "code",
      "execution_count": 18,
      "id": "necessary-imaging",
      "metadata": {
        "id": "necessary-imaging",
        "outputId": "f2f7f71a-3e92-4d03-b6f0-3232f45bf271"
      },
      "outputs": [
        {
          "name": "stdout",
          "output_type": "stream",
          "text": [
            "20 10\n",
            "(1, 5)\n",
            "1 4\n"
          ]
        }
      ],
      "source": [
        "# ja sabemos como usar múltipla atribuição com tuplos!\n",
        "a=10; b=20\n",
        "a, b = b,a\n",
        "print(a,b)\n",
        "# na verdade isto é atribuição de tuplos!!\n",
        "\n",
        "# em funções, em vez de arrays, podesmo usar tuplos para retornar mais do que um valor!\n",
        "# exemplo divmod\n",
        "a = divmod(12,7)\n",
        "print(a)\n",
        "\n",
        "# ou\n",
        "quociente, resto = divmod(11,7)\n",
        "print(quociente,resto)"
      ]
    },
    {
      "cell_type": "code",
      "execution_count": 58,
      "id": "underlying-alias",
      "metadata": {
        "id": "underlying-alias",
        "outputId": "4cd95a17-1b4a-4fd8-f295-2c2b357b8232"
      },
      "outputs": [
        {
          "name": "stdout",
          "output_type": "stream",
          "text": [
            "(1, 'uma')\n",
            "(2, 'outra')\n",
            "(3, 'mais')\n",
            "(4, 'adicional')\n",
            "(5, 'nenhuma')\n"
          ]
        }
      ],
      "source": [
        "# temos um função do python ($zip$) para formar tuplos a partir de listas\n",
        "# exemplo:\n",
        "a = [1,2,3,4,5]\n",
        "b = [\"uma\",\"outra\",\"mais\",\"adicional\",\"nenhuma\"]\n",
        "estrut = zip(a,b)\n",
        "\n",
        "for t in estrut:\n",
        "    print(t)"
      ]
    },
    {
      "cell_type": "markdown",
      "id": "optimum-evans",
      "metadata": {
        "id": "optimum-evans"
      },
      "source": [
        "#### Listas por Compreensão\n",
        "\n",
        "O Python fornece a possibilidade de definir uma coleção de dados à custa de uma expressão que pode ser mais ou menos complexa. Assim, podemos ter coleções de dados que são filtros ou \"mappings\" sobre outras coleções. Vamos ver alguns exemplos:"
      ]
    },
    {
      "cell_type": "code",
      "execution_count": 59,
      "id": "warming-moldova",
      "metadata": {
        "id": "warming-moldova",
        "outputId": "20d9b319-7d27-4ad0-9534-4bc457468384"
      },
      "outputs": [
        {
          "name": "stdout",
          "output_type": "stream",
          "text": [
            "[2, 4, 6, 8, 10] [1, 4, 9, 16, 25, 36, 49, 64, 81, 100]\n"
          ]
        }
      ],
      "source": [
        "# definir numeros pares de uma lista dada\n",
        "a = [1,2,3,4,5,6,7,8,9,10]\n",
        "b = [s for s in a if s % 2 == 0]\n",
        "\n",
        "# outro exemplo\n",
        "c = [ s ** 2 for s in a]\n",
        "\n",
        "print(b,c)"
      ]
    },
    {
      "cell_type": "markdown",
      "id": "demonstrated-brazilian",
      "metadata": {
        "id": "demonstrated-brazilian"
      },
      "source": [
        "#### Geradores de Expressões\n",
        "\n",
        "Em vez de definir uma lista podemos ter um expressão que é invocada \"on demand\" (ao modo lazy como nas linguagens funcionais). Uma vez definido este objeto podemos requisitar elementos usando o comando $\\tt next$"
      ]
    },
    {
      "cell_type": "code",
      "execution_count": 65,
      "id": "grave-lounge",
      "metadata": {
        "id": "grave-lounge",
        "outputId": "49227148-a84b-45b3-ead0-44dd6d080a47"
      },
      "outputs": [
        {
          "name": "stdout",
          "output_type": "stream",
          "text": [
            "1\n",
            "4\n",
            "9\n",
            "16\n",
            "25\n"
          ]
        }
      ],
      "source": [
        "# exemplo\n",
        "a = (g**2 for g in range(1,6))\n",
        "#next(a)\n",
        "\n",
        "# gerar o resto de todos\n",
        "for x in a:\n",
        "    print(x)"
      ]
    },
    {
      "cell_type": "markdown",
      "id": "etofn0D7qNGK",
      "metadata": {
        "id": "etofn0D7qNGK"
      },
      "source": [
        "Geradores com a keyword $yield$"
      ]
    },
    {
      "cell_type": "code",
      "execution_count": 69,
      "id": "BQnlWg-uqT-R",
      "metadata": {
        "colab": {
          "base_uri": "https://localhost:8080/"
        },
        "id": "BQnlWg-uqT-R",
        "outputId": "2aebeb9d-1fae-4b6f-ebee-6e244fe8e113"
      },
      "outputs": [
        {
          "name": "stdout",
          "output_type": "stream",
          "text": [
            "0\n",
            "1\n",
            "1\n",
            "2\n",
            "3\n",
            "5\n",
            "8\n",
            "13\n",
            "\n",
            "0\n"
          ]
        }
      ],
      "source": [
        "# gerador de fibonacci \"on demand\"\n",
        "\n",
        "def fib(limit):\n",
        "     \n",
        "    # dois primeiros numeros da sequencia\n",
        "    a, b = 0, 1\n",
        " \n",
        "    # yield um a um...\n",
        "    while a < limit:\n",
        "        yield a\n",
        "        a, b = b, a + b\n",
        " \n",
        "# Cria um \"objeto\" gerador que podemos iterar sobre...\n",
        "x = fib(15)\n",
        "\n",
        "for a in x:\n",
        "  print(a)\n",
        "\n",
        "print()\n",
        "x = fib(20)\n",
        "print(next(x))"
      ]
    },
    {
      "cell_type": "markdown",
      "id": "understood-concord",
      "metadata": {
        "id": "understood-concord"
      },
      "source": [
        "* Um exercício com estes conceitos: escreva uma função que produza uma lista de numeros de 1 até um valor dado $n$ com números impares em que a soma de dois consecutivos não consta da lista."
      ]
    },
    {
      "cell_type": "code",
      "execution_count": 74,
      "id": "undefined-drama",
      "metadata": {
        "id": "undefined-drama",
        "outputId": "230bbd8a-ec9b-41fe-f727-a7c616b0e088"
      },
      "outputs": [
        {
          "name": "stdout",
          "output_type": "stream",
          "text": [
            "[1, 3, 5, 7, 9, 11, 13, 15, 17, 19]\n"
          ]
        }
      ],
      "source": [
        "def lista(n):\n",
        "    return [x for x in range(1,n+1) if x % 2 != 0 ]\n",
        "\n",
        "print(lista(20))"
      ]
    },
    {
      "cell_type": "markdown",
      "id": "basic-married",
      "metadata": {
        "id": "basic-married"
      },
      "source": [
        "Gerar ternos Pitagóricos menores que um $n$ dado"
      ]
    },
    {
      "cell_type": "code",
      "execution_count": 76,
      "id": "floral-generator",
      "metadata": {
        "id": "floral-generator",
        "outputId": "74546943-59df-4ea7-af81-4e5612d07ac1"
      },
      "outputs": [
        {
          "data": {
            "text/plain": [
              "[(3, 4, 5),\n",
              " (5, 12, 13),\n",
              " (6, 8, 10),\n",
              " (7, 24, 25),\n",
              " (8, 15, 17),\n",
              " (9, 12, 15),\n",
              " (9, 40, 41),\n",
              " (10, 24, 26),\n",
              " (12, 16, 20),\n",
              " (12, 35, 37),\n",
              " (15, 20, 25),\n",
              " (15, 36, 39),\n",
              " (16, 30, 34),\n",
              " (18, 24, 30),\n",
              " (20, 21, 29),\n",
              " (21, 28, 35),\n",
              " (24, 32, 40),\n",
              " (27, 36, 45)]"
            ]
          },
          "execution_count": 76,
          "metadata": {},
          "output_type": "execute_result"
        }
      ],
      "source": [
        "# Gera os ternos pitagóricos menores a n \n",
        "def ternos(n):\n",
        "    return [(x,y,z) for x in range(1, n) \n",
        "                    for y in range(x, n)\n",
        "                    for z in range(y, n) if x ** 2 + y ** 2 == z ** 2]\n",
        "\n",
        "ternos(50)\n",
        "\n"
      ]
    },
    {
      "cell_type": "markdown",
      "id": "nonprofit-length",
      "metadata": {
        "id": "nonprofit-length"
      },
      "source": [
        "* CifraSimples: \n",
        "Implementar um cifragem de texto naif que simplesmente faz um shift de 13 caracteres. Isto é\n",
        "a -> n, b -> o, ..., m -> z e por outro lado n -> a, o -> b, ..., z -> m (o mesmo para as maiúsculas). Codifique uma função que execute este shifting e depois gere o texto codificado por compreensão."
      ]
    },
    {
      "cell_type": "code",
      "execution_count": 85,
      "id": "treated-excess",
      "metadata": {
        "id": "treated-excess",
        "outputId": "2450ede5-df83-44f3-9a63-410de347f73e"
      },
      "outputs": [
        {
          "name": "stdout",
          "output_type": "stream",
          "text": [
            "['P', 'r', 'e', 'q', 'v', ' ', 'b', ' ', 't', 'n', 'g', 'b', ' ', 'a', 'n', ' ', 'c', 'e', 'n', 'v', 'n']\n",
            "['P', 'e', 'r', 'd', 'i', ' ', 'o', ' ', 'g', 'a', 't', 'o', ' ', 'n', 'a', ' ', 'p', 'r', 'a', 'i', 'a']\n"
          ]
        }
      ],
      "source": [
        "def shift(char : chr) -> chr:\n",
        "\n",
        "    # shift minúsculas\n",
        "    if ord('a') <= ord(char) <= ord('z'):\n",
        "        return chr(( (ord(char) - ord('a') + 13) % 26) + 97)\n",
        "    \n",
        "    # shift maiúsculas\n",
        "    elif ord('A') <= ord(char) <= ord('A'):\n",
        "        return chr(( (ord(char) - ord('A') + 13) % 26) + 65)\n",
        "    \n",
        "    else: \n",
        "        return char\n",
        "    \n",
        "str = \"Perdi o gato na praia\"\n",
        "\n",
        "cifra = [x for x in map(shift, str)]\n",
        "print(cifra)\n",
        "uncifra = [x for x in map(shift, cifra)]\n",
        "print(uncifra)"
      ]
    },
    {
      "cell_type": "markdown",
      "id": "medical-positive",
      "metadata": {
        "id": "medical-positive"
      },
      "source": [
        "Este estilo de programação pode tornar-se bastante elaborado. Por exemplo gerar o crivo de Eratóstenes usando listas por compreensão:"
      ]
    },
    {
      "cell_type": "code",
      "execution_count": 3,
      "id": "textile-courage",
      "metadata": {
        "id": "textile-courage",
        "outputId": "70de7cac-782d-49d6-ed03-29b6cfca44b3"
      },
      "outputs": [
        {
          "name": "stdout",
          "output_type": "stream",
          "text": [
            "[]\n"
          ]
        }
      ],
      "source": [
        "N = 100\n",
        "\n",
        "p = [x for x in range(2, 100) for k in range(2, int(x**0.5)) if x % k != 0]\n",
        "\n",
        "print(p)"
      ]
    },
    {
      "cell_type": "markdown",
      "id": "lucky-slovakia",
      "metadata": {
        "id": "lucky-slovakia"
      },
      "source": [
        "#### Exercícios\n",
        "1) Escreva uma função que recebe como parâmetro um array de $n$ valores numéricos e determina se existe um terno de valores que a sua soma é igual a zero! (tentar escrever um algoritmo com comportamento computacional melhor que \n",
        "$n^2 \\times log(n)$). Hint: use sets!"
      ]
    },
    {
      "cell_type": "code",
      "execution_count": 20,
      "id": "hired-stocks",
      "metadata": {
        "colab": {
          "base_uri": "https://localhost:8080/"
        },
        "id": "hired-stocks",
        "outputId": "56307f93-bcf0-48c1-f01a-4ec9a71284fb"
      },
      "outputs": [
        {
          "name": "stdout",
          "output_type": "stream",
          "text": [
            "(4, -3, -1)\n"
          ]
        }
      ],
      "source": [
        "l = [-3,7,-1,4,1,7]\n",
        "\n",
        "def foo(l : list):\n",
        "    s = set()\n",
        "    for x in l:\n",
        "        s.add(x)\n",
        "\n",
        "    for x in s:\n",
        "        for y in s:\n",
        "            for z in s:\n",
        "                if (x + y + z) == 0 and x != y and x != z and y != z:\n",
        "                    return (x,y,z)\n",
        "\n",
        "    return -1 \n",
        "\n",
        "print(foo(l))"
      ]
    },
    {
      "cell_type": "markdown",
      "id": "beginning-effects",
      "metadata": {
        "id": "beginning-effects"
      },
      "source": [
        "2) Elemento comum. Definir uma função que recebe 3 arrays e identifica se há um valor comum aos 3 arrays, retornando esse valor no caso afirmativa."
      ]
    },
    {
      "cell_type": "code",
      "execution_count": 9,
      "id": "regulation-workshop",
      "metadata": {
        "id": "regulation-workshop"
      },
      "outputs": [
        {
          "name": "stdout",
          "output_type": "stream",
          "text": [
            "set()\n"
          ]
        }
      ],
      "source": [
        "arr1 = [0,1,2,3]\n",
        "arr2 = [5,4,3,2]\n",
        "arr3 = [7,9]\n",
        "\n",
        "def common(l1 : list, l2 : list, l3 : list):\n",
        "    s1 = set(); s2 = set(); s3 = set()\n",
        "    \n",
        "    for x in l1:\n",
        "        s1.add(x)\n",
        "    for y in l2: \n",
        "        s2.add(y)\n",
        "    for z in l3:\n",
        "        s3.add(z)\n",
        "    \n",
        "    return s1 & s2 & s3\n",
        "\n",
        "\n",
        "print(common(arr1,arr2,arr3))"
      ]
    },
    {
      "cell_type": "markdown",
      "id": "unable-bangkok",
      "metadata": {
        "id": "unable-bangkok"
      },
      "source": [
        "3) Pesquisar num array ordenado (por número) de tuplos de alunos (com nº, nome e média) pelo nº e retornar o nome."
      ]
    },
    {
      "cell_type": "code",
      "execution_count": 12,
      "id": "interesting-short",
      "metadata": {
        "id": "interesting-short",
        "outputId": "efa0d1ec-b43e-47f3-e6f3-73a479a4b384"
      },
      "outputs": [
        {
          "name": "stdout",
          "output_type": "stream",
          "text": [
            "Cabral\n"
          ]
        }
      ],
      "source": [
        "turma = [(1, \"Joao\", 15), (2, \"Joana\", 14), (3, \"Cabral\", 18), (4, \"Andreia\", 17), (5, \"Jose\", 9)]\n",
        "\n",
        "def pesquisa(n : int, t : turma) -> str:\n",
        "    for (x,y,_) in t:\n",
        "        if x == n:\n",
        "            return y \n",
        "        elif x > n:\n",
        "            return -1 \n",
        "    \n",
        "print(pesquisa(3, turma))"
      ]
    },
    {
      "cell_type": "markdown",
      "id": "suited-mainland",
      "metadata": {
        "id": "suited-mainland"
      },
      "source": [
        "4) Implementar um versão de um algoritmo de ordenação que elimine os duplicados de um array."
      ]
    },
    {
      "cell_type": "code",
      "execution_count": 15,
      "id": "identified-sherman",
      "metadata": {
        "id": "identified-sherman",
        "outputId": "a1d31a53-3f91-4949-a78a-ef6f33337c6c"
      },
      "outputs": [
        {
          "name": "stdout",
          "output_type": "stream",
          "text": [
            "[-1, 0, 1, 2, 4, 5, 7]\n"
          ]
        }
      ],
      "source": [
        "def qsort(arr : list) -> list:\n",
        "    if arr == []:\n",
        "        return []\n",
        "    elif len(arr) == 1:\n",
        "        return arr \n",
        "    \n",
        "    h = arr[0]\n",
        "    ys = [y for y in arr if y < h]\n",
        "    zs = [z for z in arr if z > h]\n",
        "\n",
        "    return qsort(ys) + [h] + qsort(zs)\n",
        "\n",
        "l = [1,2,1,2,4,5,-1,2,0,7]\n",
        "print(qsort(l))\n"
      ]
    },
    {
      "cell_type": "markdown",
      "id": "dirty-rings",
      "metadata": {
        "id": "dirty-rings"
      },
      "source": [
        "5) Definir uma função que recebe um array de tuplos com a informação de um conjunto de alunos com:\n",
        "    nome, nº, média das notas e idades. A função ordena o array tendo em conta a média."
      ]
    },
    {
      "cell_type": "code",
      "execution_count": 14,
      "id": "individual-miami",
      "metadata": {
        "id": "individual-miami",
        "outputId": "f09fadb2-21c0-4e9a-f30e-f56f755a8f3c"
      },
      "outputs": [
        {
          "name": "stdout",
          "output_type": "stream",
          "text": [
            "[(5, 'Jose', 9, 17), (2, 'Joana', 14, 18), (1, 'Joao', 15, 18), (4, 'Andreia', 17, 18), (3, 'Cabral', 18, 19)]\n"
          ]
        }
      ],
      "source": [
        "turma = [(1, \"Joao\", 15, 18), (2, \"Joana\", 14, 18), (3, \"Cabral\", 18, 19), (4, \"Andreia\", 17, 18), (5, \"Jose\", 9, 17)]\n",
        "\n",
        "def sort_by_grade(t : list) -> list:\n",
        "    if t == []:\n",
        "        return []\n",
        "    elif len(t) == 1:\n",
        "        return t \n",
        "    \n",
        "    h = t[0]\n",
        "    ys = [y for y in t[1:] if y[2] <= h[2]]\n",
        "    zs = [z for z in t[1:] if h[2] < z[2]]\n",
        "\n",
        "    return sort_by_grade(ys) + [h] + sort_by_grade(zs)\n",
        "\n",
        "\n",
        "print(sort_by_grade(turma))\n"
      ]
    },
    {
      "cell_type": "markdown",
      "id": "western-thesis",
      "metadata": {
        "id": "western-thesis"
      },
      "source": [
        "6) Ordenar o array de tuplos pela idade e adicionar um desempate na ordenação (casos com a mesma idade) usando a média."
      ]
    },
    {
      "cell_type": "code",
      "execution_count": 17,
      "id": "material-district",
      "metadata": {
        "id": "material-district"
      },
      "outputs": [
        {
          "name": "stdout",
          "output_type": "stream",
          "text": [
            "[(15, 'ana', 15.2, 18), (17, 'jorge', 19.0, 18), (1, 'rui', 12.5, 19), (12, 'joao', 14.5, 19), (5, 'paulo', 18.2, 20)]\n"
          ]
        }
      ],
      "source": [
        "alunos =[(12,\"joao\",14.5,19),(15,\"ana\",15.2,18),(1,\"rui\",12.5,19), (5,\"paulo\",18.2,20),(17,\"jorge\",19.0,18)]\n",
        "\n",
        "def sort_by_age(t : list) -> list:\n",
        "    if t == []:\n",
        "        return []\n",
        "    elif len(t) == 1:\n",
        "        return t \n",
        "    \n",
        "    h = t[0]\n",
        "    ys  = [y for y in t[1:] if y[3] < h[3]]\n",
        "    yys = [y for y in t[1:] if y[3] == h[3] and y[2] <= h[2]] \n",
        "    zzs = [z for z in t[1:] if z[3] == z[3] and z[2] > z[2]]\n",
        "    zs  = [z for z in t[1:] if h[3] < z[3]]\n",
        "\n",
        "    return sort_by_grade(ys) + sort_by_age(yys) + [h] + sort_by_age(zzs) + sort_by_grade(zs)\n",
        "\n",
        "print(sort_by_age(alunos))"
      ]
    },
    {
      "cell_type": "markdown",
      "id": "functional-virgin",
      "metadata": {
        "id": "functional-virgin"
      },
      "source": [
        "7) Escrever uma função que dada uma sequência de números identifica o par de elementos com menor distância de valor entre eles."
      ]
    },
    {
      "cell_type": "code",
      "execution_count": 28,
      "id": "asian-appraisal",
      "metadata": {
        "id": "asian-appraisal",
        "outputId": "d3f07f28-cd1f-47fb-86f2-7bb1b68dfd53"
      },
      "outputs": [
        {
          "name": "stdout",
          "output_type": "stream",
          "text": [
            "(4, 2)\n"
          ]
        }
      ],
      "source": [
        "def nearest(arr : list): \n",
        "    if arr == [] or len(arr) == 1:\n",
        "        return ()\n",
        "    \n",
        "    mi, par = abs(arr[0] - arr[1]), (arr[0], arr[1])\n",
        "    for i in range(0, len(arr)):\n",
        "        for j in range(i+1, len(arr)):\n",
        "            if abs(arr[i] - arr[j]) < mi:\n",
        "                mi, par = abs(arr[i] - arr[j]), (arr[i], arr[j])\n",
        "\n",
        "    return par\n",
        "\n",
        "l = [-8, 4, 2, 29, 13, 157, -3, 110]\n",
        "\n",
        "print(nearest(l))\n"
      ]
    },
    {
      "cell_type": "markdown",
      "id": "28af2c0a",
      "metadata": {},
      "source": []
    }
  ],
  "metadata": {
    "colab": {
      "provenance": []
    },
    "kernelspec": {
      "display_name": "Python 3 (ipykernel)",
      "language": "python",
      "name": "python3"
    },
    "language_info": {
      "codemirror_mode": {
        "name": "ipython",
        "version": 3
      },
      "file_extension": ".py",
      "mimetype": "text/x-python",
      "name": "python",
      "nbconvert_exporter": "python",
      "pygments_lexer": "ipython3",
      "version": "3.9.6"
    }
  },
  "nbformat": 4,
  "nbformat_minor": 5
}
