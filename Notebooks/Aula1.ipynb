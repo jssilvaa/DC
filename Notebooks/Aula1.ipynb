{
  "cells": [
    {
      "cell_type": "markdown",
      "id": "earned-prince",
      "metadata": {
        "id": "earned-prince"
      },
      "source": [
        "Exemplos de código com ifs"
      ]
    },
    {
      "cell_type": "code",
      "execution_count": 422,
      "id": "optimum-letters",
      "metadata": {
        "colab": {
          "base_uri": "https://localhost:8080/"
        },
        "id": "optimum-letters",
        "outputId": "62458622-aba1-47b2-c5d9-53419015f9f0"
      },
      "outputs": [
        {
          "name": "stdout",
          "output_type": "stream",
          "text": [
            "|x|=10\n"
          ]
        }
      ],
      "source": [
        "# valor abs\n",
        "x = -10\n",
        "if x < 0:\n",
        "    x = -x\n",
        "    \n",
        "print(\"|x|=\"+str(x))"
      ]
    },
    {
      "cell_type": "code",
      "execution_count": 423,
      "id": "indirect-memorabilia",
      "metadata": {
        "colab": {
          "base_uri": "https://localhost:8080/"
        },
        "id": "indirect-memorabilia",
        "outputId": "6bd87f25-3261-4495-94d4-8473dc5f9634"
      },
      "outputs": [
        {
          "name": "stdout",
          "output_type": "stream",
          "text": [
            "10,9,8,7,6,5,4,3,2,1\n"
          ]
        }
      ],
      "source": [
        "# step nos ciclos for\n",
        "s = \"\"\n",
        "for i in range(10, 0, -1):\n",
        "    s += \"{},\".format(i)\n",
        "\n",
        "print(s[:-1:])"
      ]
    },
    {
      "cell_type": "code",
      "execution_count": 424,
      "id": "fitting-mileage",
      "metadata": {
        "colab": {
          "base_uri": "https://localhost:8080/"
        },
        "id": "fitting-mileage",
        "outputId": "d96d6fb5-c089-4309-b176-179bf6fd39a7"
      },
      "outputs": [
        {
          "name": "stdout",
          "output_type": "stream",
          "text": [
            "x=0.4362225979299983 y=-0.24558163988757276\n"
          ]
        }
      ],
      "source": [
        "import random\n",
        "\n",
        "\n",
        "x = 1\n",
        "y = 1\n",
        "\n",
        "while x*x + y*y > 1.0:\n",
        "    x = -1.0 + 2.0*random.random()\n",
        "    y = -1.0 + 2.0*random.random()\n",
        "    \n",
        "        \n",
        "print(\"x=\"+str(x)+\" y=\"+str(y))"
      ]
    },
    {
      "cell_type": "code",
      "execution_count": 425,
      "id": "known-mystery",
      "metadata": {
        "colab": {
          "base_uri": "https://localhost:8080/"
        },
        "id": "known-mystery",
        "outputId": "de1265c5-55a2-42fe-cb8c-edd7c12837f1"
      },
      "outputs": [
        {
          "name": "stdout",
          "output_type": "stream",
          "text": [
            "2^5 = 32 < 64.\n"
          ]
        }
      ],
      "source": [
        "# ciclo para potencias de 2 < n\n",
        "N = 64\n",
        "\n",
        "p = 0\n",
        "while 2**p < N:\n",
        "    p += 1 \n",
        "p-=1\n",
        "\n",
        "print(f\"2^{p} = {2**p} < {N}.\")"
      ]
    },
    {
      "cell_type": "markdown",
      "id": "m3GYLDZy76Zw",
      "metadata": {
        "id": "m3GYLDZy76Zw"
      },
      "source": [
        "Dados 3 numeros calcular o seu máximo"
      ]
    },
    {
      "cell_type": "code",
      "execution_count": 426,
      "id": "improved-guess",
      "metadata": {
        "id": "improved-guess"
      },
      "outputs": [
        {
          "name": "stdout",
          "output_type": "stream",
          "text": [
            "60\n"
          ]
        }
      ],
      "source": [
        "import random \n",
        "l, r = 0, 100\n",
        "\n",
        "a = random.randint(l, r)\n",
        "b = random.randint(l, r)\n",
        "c = random.randint(l, r)\n",
        "\n",
        "if b < a:\n",
        "    a, b = b, a \n",
        "if c < b:\n",
        "    b, c = c, b\n",
        "\n",
        "print(c)\n"
      ]
    },
    {
      "cell_type": "markdown",
      "id": "DgH9coGO8DbJ",
      "metadata": {
        "id": "DgH9coGO8DbJ"
      },
      "source": [
        "Ordenar dois números e imprimir por ordem"
      ]
    },
    {
      "cell_type": "code",
      "execution_count": 427,
      "id": "vocal-siemens",
      "metadata": {
        "id": "vocal-siemens"
      },
      "outputs": [
        {
          "name": "stdout",
          "output_type": "stream",
          "text": [
            "4 28\n"
          ]
        }
      ],
      "source": [
        "# ordenar 2 números\n",
        "l, r = 0, 100 \n",
        "\n",
        "a = random.randint(l, r)\n",
        "b = random.randint(l, r)\n",
        "\n",
        "if b < a:\n",
        "    a, b = b, a \n",
        "\n",
        "print(a,b)"
      ]
    },
    {
      "cell_type": "markdown",
      "id": "pI-CFb6n_T7E",
      "metadata": {
        "id": "pI-CFb6n_T7E"
      },
      "source": [
        "Ordenar três números sem usar if() (podemos usar as funções max() e min()"
      ]
    },
    {
      "cell_type": "code",
      "execution_count": 428,
      "id": "oQUCcj7dKudM",
      "metadata": {
        "id": "oQUCcj7dKudM"
      },
      "outputs": [
        {
          "name": "stdout",
          "output_type": "stream",
          "text": [
            "True\n"
          ]
        }
      ],
      "source": [
        "# Ordenar 3 numeros\n",
        "l, r = 0, 100\n",
        "\n",
        "a = random.randint(l, r)\n",
        "b = random.randint(l, r)\n",
        "c = random.randint(l, r)\n",
        "\n",
        "_sum = a + b+ c \n",
        "_min = min(a,b,c)\n",
        "_max = max(a,b,c)\n",
        "middle = _sum - _max - _min \n",
        "\n",
        "def is_sorted(l : list) -> bool:\n",
        "    return l == sorted(l)\n",
        "\n",
        "\n",
        "print(is_sorted([_min, middle, _max]))\n",
        "\n"
      ]
    },
    {
      "attachments": {},
      "cell_type": "markdown",
      "id": "metropolitan-alert",
      "metadata": {
        "id": "metropolitan-alert"
      },
      "source": [
        "Um número de Armstrong é um número que é igual à soma do cubo de cada um dos seus dígitos. Por exemplo, 153 é um número de Armstrong: $153 = 1^3 + 5^3 + 3^3$. Faça um programa que calcule os números de Armstrong para um valor $< N$, onde $N$ é um parâmetro dado."
      ]
    },
    {
      "cell_type": "code",
      "execution_count": 432,
      "id": "medical-india",
      "metadata": {
        "id": "medical-india"
      },
      "outputs": [
        {
          "ename": "TypeError",
          "evalue": "'int' object is not callable",
          "output_type": "error",
          "traceback": [
            "\u001b[0;31m---------------------------------------------------------------------------\u001b[0m",
            "\u001b[0;31mTypeError\u001b[0m                                 Traceback (most recent call last)",
            "Cell \u001b[0;32mIn[432], line 8\u001b[0m\n\u001b[1;32m      5\u001b[0m     \u001b[39mreturn\u001b[39;00m n \u001b[39m==\u001b[39m \u001b[39msum\u001b[39m([\u001b[39mint\u001b[39m(x)\u001b[39m*\u001b[39m\u001b[39m*\u001b[39m\u001b[39m3\u001b[39m \u001b[39mfor\u001b[39;00m x \u001b[39min\u001b[39;00m \u001b[39mstr\u001b[39m(n)])\n\u001b[1;32m      7\u001b[0m \u001b[39m# 1st Method: Using string conversions \u001b[39;00m\n\u001b[0;32m----> 8\u001b[0m \u001b[39mprint\u001b[39m([x \u001b[39mfor\u001b[39;00m x \u001b[39min\u001b[39;00m \u001b[39mrange\u001b[39m(\u001b[39m0\u001b[39m, N) \u001b[39mif\u001b[39;00m isArmstrong(x)]) \n\u001b[1;32m     10\u001b[0m \u001b[39mprint\u001b[39m(isArmstrong(\u001b[39m1\u001b[39m))\n",
            "Cell \u001b[0;32mIn[432], line 8\u001b[0m, in \u001b[0;36m<listcomp>\u001b[0;34m(.0)\u001b[0m\n\u001b[1;32m      5\u001b[0m     \u001b[39mreturn\u001b[39;00m n \u001b[39m==\u001b[39m \u001b[39msum\u001b[39m([\u001b[39mint\u001b[39m(x)\u001b[39m*\u001b[39m\u001b[39m*\u001b[39m\u001b[39m3\u001b[39m \u001b[39mfor\u001b[39;00m x \u001b[39min\u001b[39;00m \u001b[39mstr\u001b[39m(n)])\n\u001b[1;32m      7\u001b[0m \u001b[39m# 1st Method: Using string conversions \u001b[39;00m\n\u001b[0;32m----> 8\u001b[0m \u001b[39mprint\u001b[39m([x \u001b[39mfor\u001b[39;00m x \u001b[39min\u001b[39;00m \u001b[39mrange\u001b[39m(\u001b[39m0\u001b[39m, N) \u001b[39mif\u001b[39;00m isArmstrong(x)]) \n\u001b[1;32m     10\u001b[0m \u001b[39mprint\u001b[39m(isArmstrong(\u001b[39m1\u001b[39m))\n",
            "Cell \u001b[0;32mIn[432], line 5\u001b[0m, in \u001b[0;36misArmstrong\u001b[0;34m(n)\u001b[0m\n\u001b[1;32m      4\u001b[0m \u001b[39mdef\u001b[39;00m \u001b[39misArmstrong\u001b[39m(n: \u001b[39mint\u001b[39m) \u001b[39m-\u001b[39m\u001b[39m>\u001b[39m \u001b[39mbool\u001b[39m: \n\u001b[0;32m----> 5\u001b[0m     \u001b[39mreturn\u001b[39;00m n \u001b[39m==\u001b[39m \u001b[39msum\u001b[39;49m([\u001b[39mint\u001b[39;49m(x)\u001b[39m*\u001b[39;49m\u001b[39m*\u001b[39;49m\u001b[39m3\u001b[39;49m \u001b[39mfor\u001b[39;49;00m x \u001b[39min\u001b[39;49;00m \u001b[39mstr\u001b[39;49m(n)])\n",
            "\u001b[0;31mTypeError\u001b[0m: 'int' object is not callable"
          ]
        }
      ],
      "source": [
        "#calcular os numeros de Armstrong\n",
        "N = 1500\n",
        "\n",
        "def isArmstrong(n: int) -> bool: \n",
        "    return n == sum([int(x)**3 for x in str(n)])\n",
        "\n",
        "# 1st Method: Using string conversions \n",
        "print([x for x in range(0, N) if isArmstrong(x)]) \n",
        "\n",
        "print(isArmstrong(1))\n",
        "    "
      ]
    },
    {
      "cell_type": "markdown",
      "id": "complicated-instrument",
      "metadata": {
        "id": "complicated-instrument"
      },
      "source": [
        "Exemplos de ciclos for.\n",
        "O templete é: for var in range(inf,sup,inc)\n",
        "Faz os ciclo com var= inf até sup-1!!"
      ]
    },
    {
      "cell_type": "code",
      "execution_count": 468,
      "id": "quarterly-showcase",
      "metadata": {
        "id": "quarterly-showcase"
      },
      "outputs": [
        {
          "name": "stdout",
          "output_type": "stream",
          "text": [
            "[1, 4, 9, 16, 25, 36, 49, 64, 81, 100, 121, 144, 169, 196, 225, 256, 289, 324, 361, 400, 441, 484, 529, 576, 625, 676, 729, 784, 841, 900, 961, 1024, 1089, 1156, 1225, 1296, 1369, 1444]\n"
          ]
        }
      ],
      "source": [
        "# indicar os quadrados perfeitos < n\n",
        "# i é quadrado perfeito se sqrt(i) for um inteiro\n",
        "import math\n",
        "N = 1500\n",
        "\n",
        "def perfect_squares(N: int) -> list:\n",
        "    return [x**2 for x in range(1, math.ceil(N**0.5)) if x**2 < N]\n",
        "\n",
        "print(perfect_squares(N))"
      ]
    },
    {
      "attachments": {},
      "cell_type": "markdown",
      "id": "committed-craps",
      "metadata": {
        "id": "committed-craps"
      },
      "source": [
        "Exemplos com loops While.\n",
        "Formato:\n",
        "    while *condicao*:\n",
        "        corpo"
      ]
    },
    {
      "cell_type": "code",
      "execution_count": 503,
      "id": "vietnamese-triple",
      "metadata": {
        "id": "vietnamese-triple"
      },
      "outputs": [
        {
          "name": "stdout",
          "output_type": "stream",
          "text": [
            "103 [1, 103]\n"
          ]
        }
      ],
      "source": [
        "# Escrever os divisores de um número N \n",
        "l, r = 0, 1000\n",
        "N = random.randint(l, r)\n",
        "\n",
        "s = []\n",
        "for x in range(1, N+1):\n",
        "    if N % x == 0:\n",
        "        s.append(x)\n",
        "\n",
        "print(N, s)"
      ]
    },
    {
      "cell_type": "code",
      "execution_count": 527,
      "id": "cordless-logging",
      "metadata": {
        "id": "cordless-logging"
      },
      "outputs": [
        {
          "name": "stdout",
          "output_type": "stream",
          "text": [
            "6! = 720\n"
          ]
        }
      ],
      "source": [
        "# Fatorial de N\n",
        "l, r = 0, 10\n",
        "N = random.randint(l, r)\n",
        "\n",
        "ans = 1 \n",
        "for x in range(2, N+1):\n",
        "    ans *= x \n",
        "\n",
        "print(\"{}! = {}\".format(N, ans))\n"
      ]
    },
    {
      "cell_type": "code",
      "execution_count": 537,
      "id": "handed-alexandria",
      "metadata": {
        "id": "handed-alexandria"
      },
      "outputs": [
        {
          "name": "stdout",
          "output_type": "stream",
          "text": [
            "[1, 1, 2, 3, 5, 8, 13, 21, 34, 55, 89, 144, 233, 377, 610, 987, 1597, 2584, 4181, 6765]\n",
            "Rácio: 1.6180339631667064\n"
          ]
        }
      ],
      "source": [
        "# Escrever os N primeiros números de Fibonacci. (Mostrar que o rácio entre os sucessores tende para phi!) \n",
        "# (1+sqrt(5))/2 +-= 1.618\n",
        "# seq de Fib = 1,1,2,3,5,8,13,...\n",
        "N = 20\n",
        "\n",
        "l = [1, 1]\n",
        "for _ in range(3, N+1):\n",
        "    l.append(l[-1] + l[-2])\n",
        "\n",
        "print(l)\n",
        "print(\"Rácio: {}\".format(l[-1]/l[-2]))"
      ]
    },
    {
      "cell_type": "code",
      "execution_count": 550,
      "id": "armed-cache",
      "metadata": {
        "id": "armed-cache"
      },
      "outputs": [
        {
          "name": "stdout",
          "output_type": "stream",
          "text": [
            "mdc(100,40) = 20\n"
          ]
        }
      ],
      "source": [
        "# Calcular o mdc entre dois números inteiros a e b.\n",
        "# Notar que se a > b, então mdc(a,b) = b se a % b = 0 ou mdc(a,b) = mdc(b, a % b).\n",
        "# Assumir ma > mb\n",
        "ma = 100\n",
        "mb = 40\n",
        "\n",
        "a, b = ma, mb \n",
        "while a % b != 0:\n",
        "    a, b = b, a % b \n",
        "\n",
        "print(\"mdc({},{}) = {}\".format(ma,mb,b))"
      ]
    }
  ],
  "metadata": {
    "colab": {
      "provenance": []
    },
    "kernelspec": {
      "display_name": "Python 3 (ipykernel)",
      "language": "python",
      "name": "python3"
    },
    "language_info": {
      "codemirror_mode": {
        "name": "ipython",
        "version": 3
      },
      "file_extension": ".py",
      "mimetype": "text/x-python",
      "name": "python",
      "nbconvert_exporter": "python",
      "pygments_lexer": "ipython3",
      "version": "3.9.7"
    }
  },
  "nbformat": 4,
  "nbformat_minor": 5
}
