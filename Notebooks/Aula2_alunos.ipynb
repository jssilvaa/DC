{
  "cells": [
    {
      "cell_type": "markdown",
      "id": "2xgjf8D-1TNG",
      "metadata": {
        "id": "2xgjf8D-1TNG"
      },
      "source": [
        "## Início\n",
        "Escreva um programa que cálcula máximo, mínimo, média, desvio padrão e moda de um dado array de *inteiros*."
      ]
    },
    {
      "cell_type": "code",
      "execution_count": 21,
      "id": "gentle-justice",
      "metadata": {
        "id": "gentle-justice",
        "outputId": "95fe501a-1ffb-4be5-e2a2-c50afabd0d53"
      },
      "outputs": [
        {
          "name": "stdout",
          "output_type": "stream",
          "text": [
            "Máximo: 6, Mínimo: 1, Média: 3.263157894736842\n",
            "Desvio padrão: 1.742415300762826\n",
            "Moda: 1, Frequência: 4\n"
          ]
        }
      ],
      "source": [
        "import math\n",
        "\n",
        "a = [1,2,3,1,4,5,6,6,2,2,4,1,4,5,6,4,3,2,1]\n",
        "\n",
        "ma  = max(a)\n",
        "mi  = min(a)\n",
        "med = sum(a)/len(a)\n",
        "\n",
        "sqrsum = 0\n",
        "for x in a:\n",
        "    sqrsum += (x - med)**2 \n",
        "\n",
        "desv = math.sqrt(sqrsum/len(a))\n",
        "\n",
        "freq = [0] * (len(a) + 1)\n",
        "for x in a: \n",
        "    freq[x] += 1 \n",
        "\n",
        "maFreq, moda = freq[0], 0 \n",
        "for i in range(0, len(freq)):\n",
        "    if (freq[i] > maFreq):\n",
        "        maFreq, moda = freq[i], i \n",
        "\n",
        "print(\"Máximo: {}, Mínimo: {}, Média: {}\".format(ma, mi, med))\n",
        "print(\"Desvio padrão: {}\".format(desv))\n",
        "print(\"Moda: {}, Frequência: {}\".format(moda, maFreq))"
      ]
    },
    {
      "cell_type": "markdown",
      "id": "solar-lunch",
      "metadata": {
        "id": "solar-lunch"
      },
      "source": [
        "### Exercício 1\n",
        "\n",
        "1. Escreva um programa que a partir de um array $a$ crie um array $b$ com os mesmos elementos de $a$, mas por ordem inversa\n",
        "    1. Comece por escrever uma versão que utilize o operador '+'\n",
        "    2. Escreva uma versão sem utilizar esse operador. Para isso crie um array auxiliar contendo os índices $[n-1,...,0]$, sendo n o número de elementos do array\n",
        "\n",
        "2. Escreva um programa que *inverta* a ordem dos elementos de um array de números \"in place\", sem criar um novo array"
      ]
    },
    {
      "cell_type": "code",
      "execution_count": 87,
      "id": "toxic-london",
      "metadata": {
        "colab": {
          "base_uri": "https://localhost:8080/"
        },
        "id": "toxic-london",
        "outputId": "09bca3fd-ea71-4339-d6f1-1118fbbe83d3"
      },
      "outputs": [
        {
          "name": "stdout",
          "output_type": "stream",
          "text": [
            "Array a inicial  : [1, 2, 3, 4, 5, 6, 7, 8]\n",
            "Array a revertido: [8, 7, 6, 5, 4, 3, 2, 1]\n"
          ]
        }
      ],
      "source": [
        "# Exercicio 1\n",
        "\n",
        "# Parte 1 \n",
        "a = [1,2,3,4,5,6,7,8]\n",
        "b = []\n",
        "\n",
        "for i in range(len(a) - 1, -1, -1):\n",
        "    b = b + [a[i]]\n",
        "\n",
        "#print(\"Array a: {}\".format(a))\n",
        "#print(\"Array b: {}\".format(b))\n",
        "\n",
        "# Parte 2 \n",
        "b = [0] * len(a)\n",
        "indx = range(len(a) - 1, -1, -1)\n",
        "for i in range(0, len(a)):\n",
        "    b[i] = a[indx[i]]\n",
        "\n",
        "#print(\"Array a: {}\".format(a))\n",
        "#print(\"Array b: {}\".format(b))\n",
        "\n",
        "# Parte 3 \n",
        "print(\"Array a inicial  : {}\".format(a))\n",
        "\n",
        "for i in range(0, int(len(a)/2)):\n",
        "    a[i], a[len(a) - 1 - i] = a[len(a) - 1 - i], a[i]\n",
        "\n",
        "print(\"Array a revertido: {}\".format(a))\n"
      ]
    },
    {
      "attachments": {},
      "cell_type": "markdown",
      "id": "jwy8u_s36nrz",
      "metadata": {
        "id": "jwy8u_s36nrz"
      },
      "source": [
        "## Exercício 2\n",
        "Escreva um programa que dado um array e um valor $n$ produz dois array: um com os valores $\\leq n$ e outro com os valores $> n$."
      ]
    },
    {
      "cell_type": "code",
      "execution_count": 92,
      "id": "D63JA1_F-F9t",
      "metadata": {
        "colab": {
          "base_uri": "https://localhost:8080/"
        },
        "id": "D63JA1_F-F9t",
        "outputId": "d10a2969-2088-4d64-a899-b5379679470c"
      },
      "outputs": [
        {
          "name": "stdout",
          "output_type": "stream",
          "text": [
            "Array a: [5, 1, 2, 9, 3, 4, 10, 2, 0, 8, 9, 15, 6], n = 5.\n",
            "Left Array: [5, 1, 2, 3, 4, 2, 0], Right Array: [9, 10, 8, 9, 15, 6]\n"
          ]
        }
      ],
      "source": [
        "# Partition Exercise\n",
        "a = [5,1,2,9,3,4,10,2,0,8,9,15,6]\n",
        "n = 5\n",
        "\n",
        "left, right = [], []\n",
        "for x in a: \n",
        "    \n",
        "    # Insere no array da esquerda\n",
        "    if (x <= n):\n",
        "        left.append(x)\n",
        "    # Insere no array da direita\n",
        "    else:\n",
        "        right.append(x)\n",
        "\n",
        "print(\"Array a: {}, n = {}.\".format(a, n))\n",
        "print(\"Left Array: {}, Right Array: {}\". format(left, right))"
      ]
    },
    {
      "cell_type": "markdown",
      "id": "xzNCnf-cRxWr",
      "metadata": {
        "id": "xzNCnf-cRxWr"
      },
      "source": [
        "## Exercício 3\n",
        "Apresente um programa que dada uma lista representando a altura de uma sequência de edificios imprime o número de edifícios visiveis para um dado observador que esteja em frente à sequência. Por exemplo, para a lista $[33,45,55,52,43,70,77]$ daria como resultado o valor 5."
      ]
    },
    {
      "cell_type": "code",
      "execution_count": 101,
      "id": "QNcK-sllotbJ",
      "metadata": {
        "id": "QNcK-sllotbJ"
      },
      "outputs": [
        {
          "name": "stdout",
          "output_type": "stream",
          "text": [
            "Prédios visíveis: [33, 45, 55, 70, 77], um total de 5 prédios.\n"
          ]
        }
      ],
      "source": [
        "alturas = [33,45,55,52,43,70,77] \n",
        "vis, ma = [], -1 \n",
        "\n",
        "for h in alturas:\n",
        "    if (h > ma):\n",
        "        vis.append(h)\n",
        "        ma = h \n",
        "    \n",
        "print(\"Prédios visíveis: {}, um total de {} prédios.\".format(vis, len(vis)))"
      ]
    },
    {
      "attachments": {},
      "cell_type": "markdown",
      "id": "finnish-intersection",
      "metadata": {
        "id": "finnish-intersection"
      },
      "source": [
        "<h1> Exercício 4 </h1>\n",
        "1. Escreva um programa que construa um array histograma a partir de um array $[1,2,3]$ de números inteiros não negativos. Por exemplo a partir do array $a=[1,0,0,2,1,4,1]$\n",
        "deve produzir $[2,3,1,0,1]$ uma vez que existem 2 ocorrências de 0, 3 de 1, etc.\n",
        "2. Escreva também um programa que construa um array que contenha na posição $x$ o número de elementos de a cujo valor é menor ou igual do que $x$. Para o exemplo anterior deverá calcular $[2,5,6,6,7]$\n",
        "\n",
        "### Exemplo de um *prettyprint* do histograma em texto:\n",
        "\n",
        "0: **   \n",
        "\n",
        "1: ***\n",
        "\n",
        "2: *\n",
        "\n",
        "3: \n",
        "\n",
        "4: *\n",
        "\n"
      ]
    },
    {
      "cell_type": "code",
      "execution_count": 121,
      "id": "purple-poker",
      "metadata": {
        "colab": {
          "base_uri": "https://localhost:8080/"
        },
        "id": "purple-poker",
        "outputId": "6e9b918a-6a2c-4650-e1db-7e5187fa2cdb"
      },
      "outputs": [
        {
          "name": "stdout",
          "output_type": "stream",
          "text": [
            "0:**\n",
            "1:***\n",
            "2:*\n",
            "3:\n",
            "4:*\n",
            "\n",
            "0:**\n",
            "1:*****\n",
            "2:******\n",
            "3:******\n",
            "4:*******\n"
          ]
        }
      ],
      "source": [
        "\n",
        "# histograma\n",
        "a = [1,0,0,2,1,4,1] \n",
        "freq = [0] * (max(a) + 1)\n",
        "\n",
        "for x in a: \n",
        "    freq[x] += 1 \n",
        "\n",
        "for i in range(0, len(freq)):\n",
        "    print(\"{}:\".format(i) + \"*\" * freq[i])\n",
        "\n",
        "print(\"\")\n",
        "menorigual = [0] * len(freq) \n",
        "for i in range(0, len(freq)): \n",
        "    j = 0 \n",
        "    while (j <= i):\n",
        "        menorigual[i] += freq[j]\n",
        "        j+=1\n",
        "\n",
        "for i in range(0, len(menorigual)):\n",
        "    print(\"{}:\".format(i) + \"*\" * menorigual[i])"
      ]
    },
    {
      "attachments": {},
      "cell_type": "markdown",
      "id": "PUwWrsqMdKma",
      "metadata": {
        "id": "PUwWrsqMdKma"
      },
      "source": [
        "## Exercício 5\n",
        "Dada uma string com um texto (frase ou algo mais) imprimir um histograma com a frequencia das letras do alfabeto usadas nesse texto.\n",
        "\n",
        "Ajudas:   \n",
        "  \n",
        "\n",
        "      \n",
        "     \n",
        "\n",
        "*   a função \"ord\" permite converter um caracter num inteiro.\n",
        "*   pode usar a função \"upper\" numa string para obter uma frase com todas as letras em maiúsculas. exemplo: nova = uma_dada_string.upper().\n",
        "*   a funçao \"chr\" converte um número no respetivo caracter ASCII. Por exemplo chr(65) = 'A'. \n",
        "*   len(a) sendo 'a' um array dá o número de elementos do array.\n",
        "\n",
        "\n",
        "\n",
        "\n",
        "\n",
        "\n",
        "\n"
      ]
    },
    {
      "cell_type": "code",
      "execution_count": 131,
      "id": "CCNM30BSdZkD",
      "metadata": {
        "id": "CCNM30BSdZkD"
      },
      "outputs": [
        {
          "name": "stdout",
          "output_type": "stream",
          "text": [
            "A: 4\n",
            "B: 0\n",
            "C: 0\n",
            "D: 1\n",
            "E: 1\n",
            "F: 0\n",
            "G: 1\n",
            "H: 0\n",
            "I: 2\n",
            "J: 0\n",
            "K: 0\n",
            "L: 0\n",
            "M: 0\n",
            "N: 1\n",
            "O: 2\n",
            "P: 2\n",
            "Q: 0\n",
            "R: 2\n",
            "S: 0\n",
            "T: 1\n",
            "U: 0\n",
            "V: 0\n",
            "W: 0\n",
            "X: 0\n",
            "Y: 0\n",
            "Z: 0\n"
          ]
        }
      ],
      "source": [
        "s = \"Perdi o gato na praia.\" \n",
        "S = s.upper()\n",
        "\n",
        "a = [0] * (ord('Z') + 1) \n",
        "for char in S:\n",
        "    if (ord('A') <= ord(char) <= ord('Z')): \n",
        "        a[ord(char)] += 1 \n",
        "\n",
        "for i in range(ord('A'), ord('Z') + 1):\n",
        "    print(\"{}: {}\".format(chr(i), a[i])) \n"
      ]
    },
    {
      "cell_type": "markdown",
      "id": "fantastic-naples",
      "metadata": {
        "id": "fantastic-naples"
      },
      "source": [
        "### Exercício 6\n",
        "\n",
        "1. Escreva um programa que procure num array a primeira ocorrência de um determinado elemento, imprimindo a posição (índice) em que foi encontrado (ou -1 no caso de insucesso).\n",
        "2. Repita o exercício anterior, optimizando o seu código para o caso em que se sabe à partida que o array se encontra *ordenado* de forma crescente."
      ]
    },
    {
      "cell_type": "code",
      "execution_count": 142,
      "id": "animated-albany",
      "metadata": {
        "id": "animated-albany",
        "outputId": "9f9ed964-a7a5-449f-ccbd-249d6bb94266"
      },
      "outputs": [
        {
          "name": "stdout",
          "output_type": "stream",
          "text": [
            "Posição: -1\n"
          ]
        },
        {
          "ename": "KeyboardInterrupt",
          "evalue": "",
          "output_type": "error",
          "traceback": [
            "\u001b[0;31m---------------------------------------------------------------------------\u001b[0m",
            "\u001b[0;31mKeyboardInterrupt\u001b[0m                         Traceback (most recent call last)",
            "Cell \u001b[0;32mIn[142], line 33\u001b[0m\n\u001b[1;32m     31\u001b[0m \u001b[39m# Valor médio inferior ao valor a procurar, restringe o campo de procura ao subarray do lado superior a m  \u001b[39;00m\n\u001b[1;32m     32\u001b[0m \u001b[39melif\u001b[39;00m (b[m] \u001b[39m<\u001b[39m v):\n\u001b[0;32m---> 33\u001b[0m     l \u001b[39m=\u001b[39m m \n\u001b[1;32m     35\u001b[0m \u001b[39m# Valor médio superior ao valor a procurar, restringe o campo de procura ao subarray do lado inferior a m  \u001b[39;00m\n\u001b[1;32m     36\u001b[0m \u001b[39melif\u001b[39;00m (b[m] \u001b[39m>\u001b[39m v):\n",
            "\u001b[0;31mKeyboardInterrupt\u001b[0m: "
          ]
        }
      ],
      "source": [
        "# Linear Searcch \n",
        "a = [1,0,0,2,1,4,1,3,3,813,4,3]\n",
        "\n",
        "# Search Value \n",
        "v = 8 \n",
        "indx, i = -1, 0 \n",
        "\n",
        "while (indx == -1 and i < len(a)):  \n",
        "    \n",
        "    # Se o valor for encontrado, sai do ciclo \n",
        "    if (a[i] == v): \n",
        "        indx = i \n",
        "    \n",
        "    i += 1 \n",
        "\n",
        "print(\"Posição: {}\".format(indx))\n",
        "\n",
        "# Binary Search \n",
        "b = sorted(a)\n",
        "indx = -1 \n",
        "l, r = 0, len(a)\n",
        "\n",
        "while(l < r): \n",
        "    m = int((l + r) / 2) \n",
        "    \n",
        "    # Valor encontrado, atualiza o índex e fecha o ciclo\n",
        "    if (b[m] == v): \n",
        "        indx = m \n",
        "        l = r + 1 \n",
        "\n",
        "    # Valor médio inferior ao valor a procurar, restringe o campo de procura ao subarray do lado superior a m  \n",
        "    elif (b[m] < v):\n",
        "        l = m \n",
        "    \n",
        "    # Valor médio superior ao valor a procurar, restringe o campo de procura ao subarray do lado inferior a m  \n",
        "    elif (b[m] > v):\n",
        "        r = m \n",
        "\n",
        "print(\"Posição: {}\".format(indx))\n"
      ]
    },
    {
      "cell_type": "markdown",
      "id": "xpxCyP744GB0",
      "metadata": {
        "id": "xpxCyP744GB0"
      },
      "source": [
        "### Exercício 7\n",
        "Escreva um programa que dado um array de valores numéricos calcula os três maiores valores dessa coleção e imprime ordenadamente.\n"
      ]
    },
    {
      "cell_type": "code",
      "execution_count": 145,
      "id": "0vT_w5-zspSB",
      "metadata": {
        "id": "0vT_w5-zspSB"
      },
      "outputs": [
        {
          "name": "stdout",
          "output_type": "stream",
          "text": [
            "43 57 123\n"
          ]
        }
      ],
      "source": [
        "a = [2,3,4,1,23,5,7,8,9,1,23,14,57,43,123,4]\n",
        "ma1, ma2, ma3 = -1, -1, -1 \n",
        "\n",
        "for x in a:\n",
        "    if (x > ma1):\n",
        "        t = ma2 \n",
        "        ma2, ma3 = ma1, t \n",
        "        ma1 = x \n",
        "    elif(x > ma2):\n",
        "        ma3 = ma2 \n",
        "        ma2 = x \n",
        "    elif(x > ma3): \n",
        "        ma3 = x \n",
        "\n",
        "print(ma3, ma2, ma1)\n",
        "    "
      ]
    }
  ],
  "metadata": {
    "colab": {
      "provenance": []
    },
    "kernelspec": {
      "display_name": "Python 3 (ipykernel)",
      "language": "python",
      "name": "python3"
    },
    "language_info": {
      "codemirror_mode": {
        "name": "ipython",
        "version": 3
      },
      "file_extension": ".py",
      "mimetype": "text/x-python",
      "name": "python",
      "nbconvert_exporter": "python",
      "pygments_lexer": "ipython3",
      "version": "3.11.2"
    }
  },
  "nbformat": 4,
  "nbformat_minor": 5
}
