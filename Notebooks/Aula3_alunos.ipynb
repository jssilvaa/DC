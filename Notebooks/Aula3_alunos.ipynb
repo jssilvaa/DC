{
  "cells": [
    {
      "cell_type": "markdown",
      "id": "further-branch",
      "metadata": {
        "id": "further-branch"
      },
      "source": [
        "## Funções em Python\n"
      ]
    },
    {
      "cell_type": "markdown",
      "id": "i2_g6i-FcCqK",
      "metadata": {
        "id": "i2_g6i-FcCqK"
      },
      "source": [
        "**Exemplo** de um 'Programa Completo' (calcular os nº Harmónicos) $h_n=\\sum_{i=1}^{n}\\frac{1}{i}$"
      ]
    },
    {
      "cell_type": "code",
      "execution_count": 119,
      "id": "scenic-crazy",
      "metadata": {
        "colab": {
          "base_uri": "https://localhost:8080/"
        },
        "id": "scenic-crazy",
        "outputId": "369de890-1310-4675-f94d-3cedb2708f2a"
      },
      "outputs": [
        {
          "name": "stdout",
          "output_type": "stream",
          "text": [
            "2.283333333333333\n",
            "2.5928571428571425\n",
            "2.9289682539682538\n",
            "3.3182289932289937\n"
          ]
        }
      ],
      "source": [
        "import math \n",
        "\n",
        "\n",
        "# Calcula n-esimo nº harmonico\n",
        "def harmonic(n):\n",
        "    total = 0.0\n",
        "    for i in range(1, n+1):\n",
        "        total += 1.0 / float(i)\n",
        "    return total\n",
        "\n",
        "# prog main...\n",
        "# Escrever os nº harmonicos descritos num lista\n",
        "lista = [5,7,10,15]\n",
        "for j in range(0,len(lista)):\n",
        "    arg = int(lista[j])\n",
        "    value = harmonic(arg)\n",
        "    print(value)"
      ]
    },
    {
      "cell_type": "markdown",
      "id": "interpreted-canal",
      "metadata": {
        "id": "interpreted-canal"
      },
      "source": [
        "Duas funções para mostrar a imutabilidade de certos tipos e passagem de parâmetros!"
      ]
    },
    {
      "cell_type": "code",
      "execution_count": 120,
      "id": "under-brooks",
      "metadata": {
        "id": "under-brooks",
        "outputId": "cc55dd8b-ba7c-4140-c315-2613c5db0397"
      },
      "outputs": [
        {
          "name": "stdout",
          "output_type": "stream",
          "text": [
            "1\n",
            "2\n",
            "\n",
            "12,5\n"
          ]
        }
      ],
      "source": [
        "def inc1(x):\n",
        "    x += 1\n",
        "    \n",
        "    \n",
        "def inc2(x):\n",
        "    x += 1\n",
        "    return x\n",
        "\n",
        "# exemplo de default values\n",
        "def exemplo(n,x=1,y=2):\n",
        "    return n + x + y\n",
        "\n",
        "\n",
        "a = 1\n",
        "inc1(a)\n",
        "print(a)\n",
        "a = inc2(a)\n",
        "print(a)\n",
        "\n",
        "a = exemplo(1,5,6)\n",
        "b = exemplo(2)\n",
        "print()\n",
        "print(str(a)+\",\"+str(b))"
      ]
    },
    {
      "cell_type": "markdown",
      "id": "patent-atlantic",
      "metadata": {
        "id": "patent-atlantic"
      },
      "source": [
        "Exemplo de passagem de arrays para funções"
      ]
    },
    {
      "cell_type": "code",
      "execution_count": 121,
      "id": "compact-vinyl",
      "metadata": {
        "id": "compact-vinyl",
        "outputId": "af08077d-432c-44b7-b898-32812d1167f8"
      },
      "outputs": [
        {
          "name": "stdout",
          "output_type": "stream",
          "text": [
            "9\n"
          ]
        }
      ],
      "source": [
        "def maximo(l):\n",
        "    max = l[0]\n",
        "    for x in l:\n",
        "        if(max < x):\n",
        "            max = x\n",
        "    return max\n",
        "   \n",
        "# programa principal\n",
        "a = [8,4,1,3,9,6,2]\n",
        "print(maximo(a))"
      ]
    },
    {
      "cell_type": "markdown",
      "id": "growing-sword",
      "metadata": {
        "id": "growing-sword"
      },
      "source": [
        "Mostrar side-effects (efeito colateral) em funções com arrays!\n",
        "Inverter um array (função não retorna nada...)"
      ]
    },
    {
      "cell_type": "code",
      "execution_count": 122,
      "id": "literary-finance",
      "metadata": {
        "id": "literary-finance",
        "outputId": "c8c02ad8-777f-406a-f281-264e5a9ff2b6"
      },
      "outputs": [
        {
          "name": "stdout",
          "output_type": "stream",
          "text": [
            "[5, 4, 3, 2, 1]\n"
          ]
        }
      ],
      "source": [
        "def inverte(l):\n",
        "    for i in range(int(len(l)/2)):\n",
        "        a[i],a[len(l)-i-1] = a[len(l)-i-1],a[i] # equivalente a: tmp = a[i], a[i] = a[len(l)-i-1], a[len(l)-i-1] = tmp\n",
        "        \n",
        "# programa principal\n",
        "a = [1,2,3,4,5]\n",
        "inverte(a)\n",
        "print(a)"
      ]
    },
    {
      "cell_type": "markdown",
      "id": "incorporate-republican",
      "metadata": {
        "id": "incorporate-republican"
      },
      "source": [
        "Funções que retornam multiplos valores: Exemplo usando arrays"
      ]
    },
    {
      "cell_type": "code",
      "execution_count": 123,
      "id": "athletic-weight",
      "metadata": {
        "id": "athletic-weight",
        "outputId": "06e137e9-7d1c-4a64-e6e2-25e479b003ff"
      },
      "outputs": [
        {
          "name": "stdout",
          "output_type": "stream",
          "text": [
            "[0, 22]\n"
          ]
        }
      ],
      "source": [
        "def max_e_min(l):\n",
        "    mi = l[0]\n",
        "    ma = l[0]\n",
        "    for x in l:\n",
        "        if(x > ma):\n",
        "            ma = x\n",
        "        if(x < mi):\n",
        "            mi = x\n",
        "    resposta = [mi, ma]\n",
        "    \n",
        "    return resposta\n",
        "\n",
        "# main\n",
        "a = [6,6,7,4,1,22,2,3,12,0,3]\n",
        "m = max_e_min(a)\n",
        "print(m)"
      ]
    },
    {
      "cell_type": "markdown",
      "id": "august-collins",
      "metadata": {
        "id": "august-collins"
      },
      "source": [
        "Outro exemplo, agora para construir um array que retorna n valores aleatorios de um intervalo [0,m]"
      ]
    },
    {
      "cell_type": "code",
      "execution_count": 124,
      "id": "complicated-piano",
      "metadata": {
        "id": "complicated-piano",
        "outputId": "faa1e988-00c1-4155-d269-00b8987d562c"
      },
      "outputs": [
        {
          "name": "stdout",
          "output_type": "stream",
          "text": [
            "[0, 0, 3, 3, 4]\n",
            "[1, 1, 1, 1, 1, 1, 1, 1, 0, 0]\n"
          ]
        }
      ],
      "source": [
        "import random as r\n",
        "\n",
        "def shuf(n,m=1):\n",
        "    #cria array\n",
        "    l = [0] * n\n",
        "    for i in range(0,n):\n",
        "        l[i] = r.randint(0,m)\n",
        "        \n",
        "    return l\n",
        "\n",
        "#main\n",
        "a = shuf(5,10)\n",
        "print(a)\n",
        "a = shuf(10)\n",
        "print(a)"
      ]
    },
    {
      "cell_type": "markdown",
      "id": "metallic-column",
      "metadata": {
        "id": "metallic-column"
      },
      "source": [
        "Agora, exercícios..."
      ]
    },
    {
      "attachments": {},
      "cell_type": "markdown",
      "id": "superb-volume",
      "metadata": {
        "id": "superb-volume"
      },
      "source": [
        "### Exercício 1\n",
        "\n",
        "Escreva uma função `eTriangulo` que recebe três números e decide se eles podem ou não ser os comprimentos dos lados de um triângulo. Para isso, devemos usar a definição que aprendemos no secundário: $\\forall_{a,b,c} \\, \\mid b - c \\mid < a < b + c$, para qualquer lado do triângulo (https://en.wikipedia.org/wiki/Triangle_inequality). A função deve retornar um valor lógio ($True/False$). Expandir exercício para identificar o tipo de triângulo (escaleno, isósceles, equilátero, retângulo)."
      ]
    },
    {
      "cell_type": "code",
      "execution_count": 138,
      "id": "mediterranean-closer",
      "metadata": {
        "colab": {
          "base_uri": "https://localhost:8080/"
        },
        "id": "mediterranean-closer",
        "outputId": "16eb18c1-28b7-4d11-9321-033feddd1bc0"
      },
      "outputs": [
        {
          "name": "stdout",
          "output_type": "stream",
          "text": [
            "Escaleno e Retângulo\n",
            "False\n"
          ]
        }
      ],
      "source": [
        "import math\n",
        "\n",
        "def idTriangulo(a,b,c):\n",
        "    retangulo = c**2 == a**2 + b**2 \n",
        "    if (a == b == c):\n",
        "        return \"Equilátero\"\n",
        "    elif (a == b):\n",
        "        if (retangulo):\n",
        "            return \"Isósceles e Retângulo\"\n",
        "        else:\n",
        "            return \"Isósceles\"    \n",
        "    else:\n",
        "        if (retangulo):\n",
        "            return \"Escaleno e Retângulo\"\n",
        "        else:\n",
        "            return \"Escaleno\"\n",
        "\n",
        "def eTriangulo(a, b, c):\n",
        "    hip = max(a,b,c)\n",
        "    cat1 = min(a,b,c)\n",
        "    cat2 = a+b+c - hip - cat1 \n",
        "\n",
        "    if (hip < cat1 + cat2):\n",
        "        return idTriangulo(cat1, cat2, hip)\n",
        "    else:\n",
        "        return False \n",
        "\n",
        "\n",
        "print(eTriangulo(5,4,3))\n",
        "print(eTriangulo(10,1,9))"
      ]
    },
    {
      "cell_type": "markdown",
      "id": "successful-wrist",
      "metadata": {
        "id": "successful-wrist"
      },
      "source": [
        "### Exercício 2\n",
        "\n",
        "(nota: a versão deste exercício proposta no livro está **incorrecta**)\n",
        "\n",
        "As instiuições financeiras utilizam um conjunto restrito de números de conta válidos (também para cartões de crédito). Para a definição de número válido utiliza-se frequentemente o algoritmo de Luhn:\n",
        "https://www.sapling.com/7966257/checksum-credit-card\n",
        "\n",
        "A ideia é separar o último dígito do número, conhecido por *check digit*;  processar os restantes dígitos para obter uma *checksum*; e finalmente processar a checksum e o checkdigit para testar se são compatíveis.\n",
        "\n",
        "O cálculo da checksum utiliza uma função auxiliar que calcula a soma dos valores do dobro de cada dígito de um número. Por exemplo aux(7) = 5 porque 2 × 7 = 14 e 1 + 4 = 5. Para calcular a checksum de um número aplica-se esta função a dígitos alternados, começando pelo primeiro. Depois soma-se tudo! (todos os dígitos). \n",
        "\n",
        "Por exemplo para o cartão de crédito com número 4578 4230 1376 9219:\n",
        "\n",
        "Retiramos o último dígito: \n",
        "4 5 7 8 4 2 3 0 1 3 7 6 9 2 1\n",
        "\n",
        "Somamos os dígitos, aplicando a função aux alternadamente (e preservando os outros dígitos:\n",
        "8+5+5+8+8+2+6+0+2+3+5+6+9+2+2 = 71\n",
        "\n",
        "Finalmente, para decidir se o número do cartão é válido, somamos a checksum com o checkdigit. O resultado terá de ser divisível por 10. \n",
        "\n",
        "Neste exemplo temos 71+9 = 80, logo trata-se de um número válido. \n",
        "\n",
        "Defina uma função `valid` que decida se um número é válido neste sentido. \n",
        "Sugestão: utilize funções auxiliares aux e checksum."
      ]
    },
    {
      "cell_type": "code",
      "execution_count": 145,
      "id": "tribal-grove",
      "metadata": {
        "id": "tribal-grove",
        "outputId": "bf60c587-3fa1-4136-bfd7-b2fab279cfcf"
      },
      "outputs": [
        {
          "name": "stdout",
          "output_type": "stream",
          "text": [
            "Checkdigit: 9\n",
            "Checksum  : 457842301376921\n",
            "True\n"
          ]
        }
      ],
      "source": [
        "def compute_checksum(x):\n",
        "    double = x * 2 \n",
        "    return (double % 10) + int(double / 10)\n",
        "\n",
        "def aux(x):\n",
        "   l = [int(k) for k in str(x)] \n",
        "   soma = 0 \n",
        "   for i in range(0, len(l)):\n",
        "       if (i % 2 == 0):\n",
        "           soma += compute_checksum(l[i])\n",
        "       else: \n",
        "           soma += l[i] \n",
        "   return soma \n",
        "\n",
        "def valid(x):\n",
        "    checkdigit = x % 10 \n",
        "    checksum = int(x / 10)\n",
        "\n",
        "    print(\"Checkdigit: {}\".format(checkdigit))\n",
        "    print(\"Checksum  : {}\".format(checksum))\n",
        "\n",
        "    return (aux(checksum) + checkdigit) % 10 == 0 \n",
        "\n",
        "print(valid(4578423013769219))"
      ]
    },
    {
      "cell_type": "markdown",
      "id": "strong-machine",
      "metadata": {
        "id": "strong-machine"
      },
      "source": [
        "### Exercício 3\n",
        "\n",
        "Relembre o Exercício 3 da aula anterior (exercício dos histogramas). Resolva-o de novo, mas convertendo agora os seus programas em funções: \n",
        "\n",
        "1. Escreva uma função que construa um array histograma a partir de um array a de números inteiros não negativos. Por exemplo a partir do array a=[1,0,0,2,1,4,1] deve produzir [2,3,1,0,1] uma vez que existem 2 ocorrências de 0, 3 de 1, etc.\n",
        "\n",
        "2. Escreva também uma função que construa um array que contenha na posição x o número de elementos de a cujo valor é menor ou igual do que x. Para o exemplo anterior deverá calcular [2,5,6,6,7]"
      ]
    },
    {
      "cell_type": "code",
      "execution_count": 150,
      "id": "civil-mixture",
      "metadata": {
        "id": "civil-mixture",
        "outputId": "677e6696-e67e-4cd8-b219-2da98af3b282"
      },
      "outputs": [
        {
          "name": "stdout",
          "output_type": "stream",
          "text": [
            "[2, 3, 1, 0, 1]\n",
            "[2, 5, 6, 6, 7]\n"
          ]
        }
      ],
      "source": [
        "a = [1,0,0,2,1,4,1]\n",
        "\n",
        "def histo(arr):\n",
        "    l = [0] * (max(arr) + 1) \n",
        "    for x in arr:\n",
        "        l[x] += 1 \n",
        "    return l \n",
        "\n",
        "def menorigual(arr):\n",
        "    l = histo(arr)\n",
        "    _l = [0] * len(l)\n",
        "    for i in range(0, len(l)):\n",
        "        j = 0 \n",
        "        while (j <= i):\n",
        "            _l[i] += l[j]\n",
        "            j+=1 \n",
        "    return _l\n",
        "\n",
        "\n",
        "print(histo(a))\n",
        "print(menorigual(a))"
      ]
    },
    {
      "cell_type": "markdown",
      "id": "union-facing",
      "metadata": {
        "id": "union-facing"
      },
      "source": [
        "### Exercício 4\n",
        "\n",
        "1. Escreva uma função que procure num array a primeira ocorrência de um determinado elemento, devolvendo a posição (índice) em que foi encontrado. Deve devolver -1 caso o elemento não seja encontrado.\n",
        "\n",
        "2. Repita o exercício anterior, optimizando o seu código para o caso em que se sabe à partida que o array se encontra *ordenado* de forma crescente, tendo em conta que a pesquisa pode terminar mais cedo, caso o elemento procurado não ocorra no array, mas seja lido um elemento *superior* a ele. "
      ]
    },
    {
      "cell_type": "code",
      "execution_count": 152,
      "id": "elementary-horror",
      "metadata": {
        "id": "elementary-horror",
        "outputId": "e9acabbf-2661-40e9-c736-f00f2f36a6ad"
      },
      "outputs": [
        {
          "name": "stdout",
          "output_type": "stream",
          "text": [
            "1\n",
            "2\n",
            "-1\n"
          ]
        }
      ],
      "source": [
        "v = [30,10,20,40,10]         \n",
        "\n",
        "def lsearch(x : int, v : list) -> int: \n",
        "    for i in range(0, len(v)):\n",
        "        if (v[i] == x):\n",
        "            return i \n",
        "\n",
        "    return -1\n",
        "\n",
        "print(lsearch(10,v))\n",
        "print(lsearch(20,v))\n",
        "print(lsearch(25,v))"
      ]
    },
    {
      "cell_type": "code",
      "execution_count": 154,
      "id": "tight-subscription",
      "metadata": {
        "id": "tight-subscription",
        "outputId": "31112eba-a883-4951-ad04-1f478759d918"
      },
      "outputs": [
        {
          "name": "stdout",
          "output_type": "stream",
          "text": [
            "0\n",
            "2\n",
            "-1\n"
          ]
        }
      ],
      "source": [
        "v = sorted([30,10,20,40,10])     \n",
        "\n",
        "def lsearch_ord(x : int, v : list) -> int: \n",
        "    for i in range(0, len(v)):\n",
        "        if (x == v[i]):\n",
        "            return i \n",
        "        elif (x < v[i]):\n",
        "            return -1 \n",
        "\n",
        "print(lsearch_ord(10,v))\n",
        "print(lsearch_ord(20,v))\n",
        "print(lsearch_ord(25,v))"
      ]
    },
    {
      "cell_type": "markdown",
      "id": "international-greece",
      "metadata": {
        "id": "international-greece"
      },
      "source": [
        "### TPC\n",
        "\n",
        "1. Escreva funções para realizar as operações de soma e multiplicação de matrizes.\n",
        "2. Consulte a Secção 4.2 do livro e implemente agora uma função de *pesquisa binária*, que constitui uma optimização muito significativa sobre as duas anteriores."
      ]
    },
    {
      "cell_type": "code",
      "execution_count": 31,
      "id": "handled-coast",
      "metadata": {
        "id": "handled-coast"
      },
      "outputs": [
        {
          "name": "stdout",
          "output_type": "stream",
          "text": [
            "Matriz Soma\n",
            "[10, 10, 10]\n",
            "[10, 10, 10]\n",
            "[10, 10, 10]\n",
            "\n",
            "Matriz Produto\n",
            "[99, 90, 81]\n",
            "[99, 90, 81]\n",
            "[99, 90, 81]\n",
            "Valor a procurar: 4, Lista [0, 1, 2, 2, 3, 4, 5, 5, 6, 7, 9, 12], Posição: 5 \n"
          ]
        }
      ],
      "source": [
        "# Exercício 1. Parte 1\n",
        "m1 = [[1,2,3],[4,5,6],[7,8,9]]\n",
        "m2 = [[9,8,7],[6,5,4],[3,2,1]]\n",
        "\n",
        "def soma(m1, m2):\n",
        "    m = [[0] * len(m1[0])] * len(m1)\n",
        "\n",
        "    for i in range(0, len(m1)):\n",
        "        for j in range(0, len(m1[0])): \n",
        "            m[i][j] = m1[i][j] + m2[i][j]\n",
        "    \n",
        "    return m \n",
        "\n",
        "\n",
        "sumMat = soma(m1,m2)\n",
        "\n",
        "print(\"Matriz Soma\")\n",
        "for l in sumMat:\n",
        "    print(l)\n",
        "\n",
        "print(\"\")\n",
        "\n",
        "# Parte 2\n",
        "\n",
        "def produto(m1, m2):\n",
        "    m = [[0] * len(m1[0])] * len(m1)\n",
        "\n",
        "    for i in range(0, len(m1)):\n",
        "        for j in range(0, len(m1[0])):\n",
        "            for k in range(0, len(m1[i])):\n",
        "                m[i][j] += m1[i][k] + m2[k][j]\n",
        "\n",
        "    return m \n",
        "\n",
        "prodMat = produto(m1,m2)\n",
        "\n",
        "print(\"Matriz Produto\")\n",
        "for l in prodMat:\n",
        "    print(l)\n",
        "\n",
        "# Exercício 2 \n",
        "def bSearch(x, arr): \n",
        "    l, r = 0, len(arr) - 1\n",
        "    \n",
        "    while (l <= r):\n",
        "        m = (l + r) // 2 \n",
        "\n",
        "        if (x == arr[m]):\n",
        "            return m\n",
        "\n",
        "        elif (x > arr[m]):\n",
        "            l = m + 1 \n",
        "\n",
        "        else:\n",
        "            r = m - 1\n",
        "\n",
        "    return -1 \n",
        "\n",
        "l = sorted([2,3,4,5,12,5,7,9,1,2,0,6]) \n",
        "v = 4\n",
        "\n",
        "print(\"Valor a procurar: {}, Lista {}, Posição: {} \".format(v, l, bSearch(v, l)))\n"
      ]
    }
  ],
  "metadata": {
    "colab": {
      "provenance": []
    },
    "kernelspec": {
      "display_name": "Python 3",
      "language": "python",
      "name": "python3"
    },
    "language_info": {
      "codemirror_mode": {
        "name": "ipython",
        "version": 3
      },
      "file_extension": ".py",
      "mimetype": "text/x-python",
      "name": "python",
      "nbconvert_exporter": "python",
      "pygments_lexer": "ipython3",
      "version": "3.9.6"
    }
  },
  "nbformat": 4,
  "nbformat_minor": 5
}
